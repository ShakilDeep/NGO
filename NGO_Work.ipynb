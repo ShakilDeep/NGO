{
 "cells": [
  {
   "cell_type": "markdown",
   "metadata": {
    "collapsed": false
   },
   "source": [
    "## Importing all the necessary libraries"
   ]
  },
  {
   "cell_type": "code",
   "execution_count": 1,
   "metadata": {
    "ExecuteTime": {
     "end_time": "2024-01-10T13:01:08.767033500Z",
     "start_time": "2024-01-10T13:01:08.754034200Z"
    },
    "collapsed": false
   },
   "outputs": [],
   "source": [
    "import numpy as np\n",
    "import pandas as pd\n",
    "import matplotlib.pyplot as plt\n",
    "import seaborn as sns"
   ]
  },
  {
   "cell_type": "markdown",
   "metadata": {
    "collapsed": false
   },
   "source": [
    "## Exloring the dataset\n"
   ]
  },
  {
   "cell_type": "code",
   "execution_count": 2,
   "metadata": {
    "ExecuteTime": {
     "end_time": "2024-01-10T13:01:10.263082600Z",
     "start_time": "2024-01-10T13:01:08.770034300Z"
    },
    "collapsed": false
   },
   "outputs": [],
   "source": [
    "dataset = pd.read_csv('Data/both_due.csv' , encoding='latin-1' , low_memory=False)"
   ]
  },
  {
   "cell_type": "code",
   "execution_count": 3,
   "metadata": {
    "ExecuteTime": {
     "end_time": "2024-01-10T13:01:10.312609300Z",
     "start_time": "2024-01-10T13:01:10.267085200Z"
    },
    "collapsed": false
   },
   "outputs": [
    {
     "data": {
      "text/html": [
       "<div>\n",
       "<style scoped>\n",
       "    .dataframe tbody tr th:only-of-type {\n",
       "        vertical-align: middle;\n",
       "    }\n",
       "\n",
       "    .dataframe tbody tr th {\n",
       "        vertical-align: top;\n",
       "    }\n",
       "\n",
       "    .dataframe thead th {\n",
       "        text-align: right;\n",
       "    }\n",
       "</style>\n",
       "<table border=\"1\" class=\"dataframe\">\n",
       "  <thead>\n",
       "    <tr style=\"text-align: right;\">\n",
       "      <th></th>\n",
       "      <th>Sl</th>\n",
       "      <th>domain_name</th>\n",
       "      <th>zone_name</th>\n",
       "      <th>area_name</th>\n",
       "      <th>branch_name</th>\n",
       "      <th>branch_code</th>\n",
       "      <th>Samity</th>\n",
       "      <th>branc_code</th>\n",
       "      <th>Member_code</th>\n",
       "      <th>Member_name</th>\n",
       "      <th>...</th>\n",
       "      <th>Loan_disburse_date</th>\n",
       "      <th>Disburse_amount</th>\n",
       "      <th>Last_transaction_date</th>\n",
       "      <th>Date_last_installment</th>\n",
       "      <th>Present_loan_amount</th>\n",
       "      <th>Due_amount</th>\n",
       "      <th>Saving_balance</th>\n",
       "      <th>Member</th>\n",
       "      <th>Organization</th>\n",
       "      <th>Day_expire</th>\n",
       "    </tr>\n",
       "  </thead>\n",
       "  <tbody>\n",
       "    <tr>\n",
       "      <th>48342</th>\n",
       "      <td>48346</td>\n",
       "      <td>OP-1</td>\n",
       "      <td>Joypurhat</td>\n",
       "      <td>Kalai</td>\n",
       "      <td>Punat</td>\n",
       "      <td>256</td>\n",
       "      <td>0256-099-Belay School para S .M.S-99</td>\n",
       "      <td>256</td>\n",
       "      <td>0256-099-0060</td>\n",
       "      <td>Mst Karima Bibi</td>\n",
       "      <td>...</td>\n",
       "      <td>13/11/2022</td>\n",
       "      <td>30000</td>\n",
       "      <td>30/03/2023</td>\n",
       "      <td>16/11/2023</td>\n",
       "      <td>18212.95</td>\n",
       "      <td>18212.95</td>\n",
       "      <td>4101.0</td>\n",
       "      <td>0.0</td>\n",
       "      <td>14111.95</td>\n",
       "      <td>14.0</td>\n",
       "    </tr>\n",
       "    <tr>\n",
       "      <th>108346</th>\n",
       "      <td>108353</td>\n",
       "      <td>OP-4</td>\n",
       "      <td>Polashbari</td>\n",
       "      <td>Pirganj-1</td>\n",
       "      <td>Khalashpir</td>\n",
       "      <td>437</td>\n",
       "      <td>0437-008-Maguria S.M.S (008)</td>\n",
       "      <td>437</td>\n",
       "      <td>0437-008-0046</td>\n",
       "      <td>Mahamuda</td>\n",
       "      <td>...</td>\n",
       "      <td>31/12/2019</td>\n",
       "      <td>15000</td>\n",
       "      <td>22/06/2022</td>\n",
       "      <td>25/02/2021</td>\n",
       "      <td>1588.50</td>\n",
       "      <td>1588.50</td>\n",
       "      <td>100.0</td>\n",
       "      <td>0.0</td>\n",
       "      <td>1488.50</td>\n",
       "      <td>1008.0</td>\n",
       "    </tr>\n",
       "    <tr>\n",
       "      <th>93981</th>\n",
       "      <td>93985</td>\n",
       "      <td>OP-4</td>\n",
       "      <td>Kurigram</td>\n",
       "      <td>Nageswari</td>\n",
       "      <td>Rayganj</td>\n",
       "      <td>245</td>\n",
       "      <td>0245-059-Bapare hat S.M.S (059)</td>\n",
       "      <td>245</td>\n",
       "      <td>0245-059-0063</td>\n",
       "      <td>Mst Sharifa Begum</td>\n",
       "      <td>...</td>\n",
       "      <td>30/09/2020</td>\n",
       "      <td>20000</td>\n",
       "      <td>27/06/2022</td>\n",
       "      <td>15/11/2021</td>\n",
       "      <td>4262.83</td>\n",
       "      <td>4262.83</td>\n",
       "      <td>100.0</td>\n",
       "      <td>0.0</td>\n",
       "      <td>4162.83</td>\n",
       "      <td>745.0</td>\n",
       "    </tr>\n",
       "    <tr>\n",
       "      <th>257040</th>\n",
       "      <td>257051</td>\n",
       "      <td>OP-12</td>\n",
       "      <td>Tangail</td>\n",
       "      <td>Mirzapur</td>\n",
       "      <td>Kaliakair</td>\n",
       "      <td>148</td>\n",
       "      <td>0148-157-Hartokitola S.M.S-157</td>\n",
       "      <td>148</td>\n",
       "      <td>0148-157-0001</td>\n",
       "      <td>Morjina Begum</td>\n",
       "      <td>...</td>\n",
       "      <td>22/03/2022</td>\n",
       "      <td>60000</td>\n",
       "      <td>25/02/2023</td>\n",
       "      <td>02/03/2023</td>\n",
       "      <td>20179.24</td>\n",
       "      <td>20179.24</td>\n",
       "      <td>7128.0</td>\n",
       "      <td>0.0</td>\n",
       "      <td>13051.24</td>\n",
       "      <td>273.0</td>\n",
       "    </tr>\n",
       "    <tr>\n",
       "      <th>11029</th>\n",
       "      <td>11032</td>\n",
       "      <td>OP-3</td>\n",
       "      <td>Chapainobabgonj</td>\n",
       "      <td>Gomostapur</td>\n",
       "      <td>Volahat</td>\n",
       "      <td>273</td>\n",
       "      <td>0273-106-Pirgachi S.M.S 106</td>\n",
       "      <td>273</td>\n",
       "      <td>0273-106-0023</td>\n",
       "      <td>Nurunnahar</td>\n",
       "      <td>...</td>\n",
       "      <td>19/10/2020</td>\n",
       "      <td>40000</td>\n",
       "      <td>09/10/2023</td>\n",
       "      <td>06/12/2021</td>\n",
       "      <td>2270.57</td>\n",
       "      <td>2270.57</td>\n",
       "      <td>170.0</td>\n",
       "      <td>0.0</td>\n",
       "      <td>2100.57</td>\n",
       "      <td>724.0</td>\n",
       "    </tr>\n",
       "  </tbody>\n",
       "</table>\n",
       "<p>5 rows × 25 columns</p>\n",
       "</div>"
      ],
      "text/plain": [
       "            Sl domain_name        zone_name   area_name branch_name  \\\n",
       "48342    48346        OP-1        Joypurhat       Kalai       Punat   \n",
       "108346  108353        OP-4       Polashbari   Pirganj-1  Khalashpir   \n",
       "93981    93985        OP-4         Kurigram   Nageswari     Rayganj   \n",
       "257040  257051       OP-12          Tangail    Mirzapur   Kaliakair   \n",
       "11029    11032        OP-3  Chapainobabgonj  Gomostapur     Volahat   \n",
       "\n",
       "        branch_code                                Samity  branc_code  \\\n",
       "48342           256  0256-099-Belay School para S .M.S-99         256   \n",
       "108346          437          0437-008-Maguria S.M.S (008)         437   \n",
       "93981           245       0245-059-Bapare hat S.M.S (059)         245   \n",
       "257040          148        0148-157-Hartokitola S.M.S-157         148   \n",
       "11029           273           0273-106-Pirgachi S.M.S 106         273   \n",
       "\n",
       "          Member_code        Member_name  ... Loan_disburse_date  \\\n",
       "48342   0256-099-0060    Mst Karima Bibi  ...         13/11/2022   \n",
       "108346  0437-008-0046           Mahamuda  ...         31/12/2019   \n",
       "93981   0245-059-0063  Mst Sharifa Begum  ...         30/09/2020   \n",
       "257040  0148-157-0001      Morjina Begum  ...         22/03/2022   \n",
       "11029   0273-106-0023         Nurunnahar  ...         19/10/2020   \n",
       "\n",
       "        Disburse_amount Last_transaction_date Date_last_installment  \\\n",
       "48342             30000            30/03/2023            16/11/2023   \n",
       "108346            15000            22/06/2022            25/02/2021   \n",
       "93981             20000            27/06/2022            15/11/2021   \n",
       "257040            60000            25/02/2023            02/03/2023   \n",
       "11029             40000            09/10/2023            06/12/2021   \n",
       "\n",
       "       Present_loan_amount Due_amount  Saving_balance Member Organization  \\\n",
       "48342             18212.95   18212.95          4101.0    0.0     14111.95   \n",
       "108346             1588.50    1588.50           100.0    0.0      1488.50   \n",
       "93981              4262.83    4262.83           100.0    0.0      4162.83   \n",
       "257040            20179.24   20179.24          7128.0    0.0     13051.24   \n",
       "11029              2270.57    2270.57           170.0    0.0      2100.57   \n",
       "\n",
       "        Day_expire  \n",
       "48342         14.0  \n",
       "108346      1008.0  \n",
       "93981        745.0  \n",
       "257040       273.0  \n",
       "11029        724.0  \n",
       "\n",
       "[5 rows x 25 columns]"
      ]
     },
     "execution_count": 3,
     "metadata": {},
     "output_type": "execute_result"
    }
   ],
   "source": [
    "dataset.sample(5)"
   ]
  },
  {
   "cell_type": "code",
   "execution_count": 4,
   "metadata": {
    "ExecuteTime": {
     "end_time": "2024-01-10T13:01:10.442122900Z",
     "start_time": "2024-01-10T13:01:10.311604900Z"
    },
    "collapsed": false
   },
   "outputs": [
    {
     "name": "stdout",
     "output_type": "stream",
     "text": [
      "<class 'pandas.core.frame.DataFrame'>\n",
      "RangeIndex: 270503 entries, 0 to 270502\n",
      "Data columns (total 25 columns):\n",
      " #   Column                 Non-Null Count   Dtype  \n",
      "---  ------                 --------------   -----  \n",
      " 0   Sl                     270503 non-null  int64  \n",
      " 1   domain_name            270503 non-null  object \n",
      " 2   zone_name              270503 non-null  object \n",
      " 3   area_name              270503 non-null  object \n",
      " 4   branch_name            270503 non-null  object \n",
      " 5   branch_code            270503 non-null  int64  \n",
      " 6   Samity                 270503 non-null  object \n",
      " 7   branc_code             270503 non-null  int64  \n",
      " 8   Member_code            270503 non-null  object \n",
      " 9   Member_name            270503 non-null  object \n",
      " 10  Spouse_name            270503 non-null  object \n",
      " 11  Mobile_no              240761 non-null  float64\n",
      " 12  Component_name         270247 non-null  object \n",
      " 13  Loan_code              270503 non-null  object \n",
      " 14  Loan_cycle             270503 non-null  object \n",
      " 15  Loan_disburse_date     242396 non-null  object \n",
      " 16  Disburse_amount        270503 non-null  int64  \n",
      " 17  Last_transaction_date  270370 non-null  object \n",
      " 18  Date_last_installment  270471 non-null  object \n",
      " 19  Present_loan_amount    270502 non-null  float64\n",
      " 20  Due_amount             270502 non-null  float64\n",
      " 21  Saving_balance         270502 non-null  float64\n",
      " 22  Member                 270013 non-null  float64\n",
      " 23  Organization           269470 non-null  float64\n",
      " 24  Day_expire             208737 non-null  float64\n",
      "dtypes: float64(7), int64(4), object(14)\n",
      "memory usage: 51.6+ MB\n"
     ]
    }
   ],
   "source": [
    "dataset.info()"
   ]
  },
  {
   "cell_type": "code",
   "execution_count": 5,
   "metadata": {
    "ExecuteTime": {
     "end_time": "2024-01-10T13:01:10.560656Z",
     "start_time": "2024-01-10T13:01:10.435126Z"
    },
    "collapsed": false
   },
   "outputs": [
    {
     "data": {
      "text/html": [
       "<div>\n",
       "<style scoped>\n",
       "    .dataframe tbody tr th:only-of-type {\n",
       "        vertical-align: middle;\n",
       "    }\n",
       "\n",
       "    .dataframe tbody tr th {\n",
       "        vertical-align: top;\n",
       "    }\n",
       "\n",
       "    .dataframe thead th {\n",
       "        text-align: right;\n",
       "    }\n",
       "</style>\n",
       "<table border=\"1\" class=\"dataframe\">\n",
       "  <thead>\n",
       "    <tr style=\"text-align: right;\">\n",
       "      <th></th>\n",
       "      <th>Sl</th>\n",
       "      <th>branch_code</th>\n",
       "      <th>branc_code</th>\n",
       "      <th>Mobile_no</th>\n",
       "      <th>Disburse_amount</th>\n",
       "      <th>Present_loan_amount</th>\n",
       "      <th>Due_amount</th>\n",
       "      <th>Saving_balance</th>\n",
       "      <th>Member</th>\n",
       "      <th>Organization</th>\n",
       "      <th>Day_expire</th>\n",
       "    </tr>\n",
       "  </thead>\n",
       "  <tbody>\n",
       "    <tr>\n",
       "      <th>count</th>\n",
       "      <td>270503.000000</td>\n",
       "      <td>270503.000000</td>\n",
       "      <td>270503.000000</td>\n",
       "      <td>2.407610e+05</td>\n",
       "      <td>2.705030e+05</td>\n",
       "      <td>2.705020e+05</td>\n",
       "      <td>2.705020e+05</td>\n",
       "      <td>270502.000000</td>\n",
       "      <td>2.700130e+05</td>\n",
       "      <td>2.694700e+05</td>\n",
       "      <td>208737.000000</td>\n",
       "    </tr>\n",
       "    <tr>\n",
       "      <th>mean</th>\n",
       "      <td>135258.050317</td>\n",
       "      <td>366.567990</td>\n",
       "      <td>366.567990</td>\n",
       "      <td>1.749707e+09</td>\n",
       "      <td>5.599664e+04</td>\n",
       "      <td>2.622090e+04</td>\n",
       "      <td>1.958301e+04</td>\n",
       "      <td>5848.544038</td>\n",
       "      <td>6.890113e+03</td>\n",
       "      <td>1.793146e+04</td>\n",
       "      <td>3529.741433</td>\n",
       "    </tr>\n",
       "    <tr>\n",
       "      <th>std</th>\n",
       "      <td>78090.565949</td>\n",
       "      <td>230.560216</td>\n",
       "      <td>230.560216</td>\n",
       "      <td>5.232587e+08</td>\n",
       "      <td>5.431754e+04</td>\n",
       "      <td>2.930779e+04</td>\n",
       "      <td>2.540436e+04</td>\n",
       "      <td>11062.111015</td>\n",
       "      <td>3.314597e+06</td>\n",
       "      <td>2.594977e+04</td>\n",
       "      <td>12631.646625</td>\n",
       "    </tr>\n",
       "    <tr>\n",
       "      <th>min</th>\n",
       "      <td>1.000000</td>\n",
       "      <td>1.000000</td>\n",
       "      <td>1.000000</td>\n",
       "      <td>1.880200e+05</td>\n",
       "      <td>2.000000e+03</td>\n",
       "      <td>8.900000e-01</td>\n",
       "      <td>8.900000e-01</td>\n",
       "      <td>-7027.000000</td>\n",
       "      <td>0.000000e+00</td>\n",
       "      <td>0.000000e+00</td>\n",
       "      <td>0.000000</td>\n",
       "    </tr>\n",
       "    <tr>\n",
       "      <th>25%</th>\n",
       "      <td>67629.500000</td>\n",
       "      <td>163.000000</td>\n",
       "      <td>163.000000</td>\n",
       "      <td>1.723274e+09</td>\n",
       "      <td>3.000000e+04</td>\n",
       "      <td>9.322097e+03</td>\n",
       "      <td>6.519820e+03</td>\n",
       "      <td>100.000000</td>\n",
       "      <td>0.000000e+00</td>\n",
       "      <td>4.190025e+03</td>\n",
       "      <td>283.000000</td>\n",
       "    </tr>\n",
       "    <tr>\n",
       "      <th>50%</th>\n",
       "      <td>135258.000000</td>\n",
       "      <td>346.000000</td>\n",
       "      <td>346.000000</td>\n",
       "      <td>1.755375e+09</td>\n",
       "      <td>4.386000e+04</td>\n",
       "      <td>1.862467e+04</td>\n",
       "      <td>1.295154e+04</td>\n",
       "      <td>3351.000000</td>\n",
       "      <td>0.000000e+00</td>\n",
       "      <td>1.150324e+04</td>\n",
       "      <td>712.000000</td>\n",
       "    </tr>\n",
       "    <tr>\n",
       "      <th>75%</th>\n",
       "      <td>202886.500000</td>\n",
       "      <td>549.000000</td>\n",
       "      <td>549.000000</td>\n",
       "      <td>1.793985e+09</td>\n",
       "      <td>5.000000e+04</td>\n",
       "      <td>3.656388e+04</td>\n",
       "      <td>2.326264e+04</td>\n",
       "      <td>6906.000000</td>\n",
       "      <td>0.000000e+00</td>\n",
       "      <td>2.219558e+04</td>\n",
       "      <td>1017.000000</td>\n",
       "    </tr>\n",
       "    <tr>\n",
       "      <th>max</th>\n",
       "      <td>270513.000000</td>\n",
       "      <td>882.000000</td>\n",
       "      <td>882.000000</td>\n",
       "      <td>9.415182e+10</td>\n",
       "      <td>2.000000e+06</td>\n",
       "      <td>1.496733e+06</td>\n",
       "      <td>1.496733e+06</td>\n",
       "      <td>860951.000000</td>\n",
       "      <td>1.722356e+09</td>\n",
       "      <td>1.496733e+06</td>\n",
       "      <td>395516.710000</td>\n",
       "    </tr>\n",
       "  </tbody>\n",
       "</table>\n",
       "</div>"
      ],
      "text/plain": [
       "                  Sl    branch_code     branc_code     Mobile_no  \\\n",
       "count  270503.000000  270503.000000  270503.000000  2.407610e+05   \n",
       "mean   135258.050317     366.567990     366.567990  1.749707e+09   \n",
       "std     78090.565949     230.560216     230.560216  5.232587e+08   \n",
       "min         1.000000       1.000000       1.000000  1.880200e+05   \n",
       "25%     67629.500000     163.000000     163.000000  1.723274e+09   \n",
       "50%    135258.000000     346.000000     346.000000  1.755375e+09   \n",
       "75%    202886.500000     549.000000     549.000000  1.793985e+09   \n",
       "max    270513.000000     882.000000     882.000000  9.415182e+10   \n",
       "\n",
       "       Disburse_amount  Present_loan_amount    Due_amount  Saving_balance  \\\n",
       "count     2.705030e+05         2.705020e+05  2.705020e+05   270502.000000   \n",
       "mean      5.599664e+04         2.622090e+04  1.958301e+04     5848.544038   \n",
       "std       5.431754e+04         2.930779e+04  2.540436e+04    11062.111015   \n",
       "min       2.000000e+03         8.900000e-01  8.900000e-01    -7027.000000   \n",
       "25%       3.000000e+04         9.322097e+03  6.519820e+03      100.000000   \n",
       "50%       4.386000e+04         1.862467e+04  1.295154e+04     3351.000000   \n",
       "75%       5.000000e+04         3.656388e+04  2.326264e+04     6906.000000   \n",
       "max       2.000000e+06         1.496733e+06  1.496733e+06   860951.000000   \n",
       "\n",
       "             Member  Organization     Day_expire  \n",
       "count  2.700130e+05  2.694700e+05  208737.000000  \n",
       "mean   6.890113e+03  1.793146e+04    3529.741433  \n",
       "std    3.314597e+06  2.594977e+04   12631.646625  \n",
       "min    0.000000e+00  0.000000e+00       0.000000  \n",
       "25%    0.000000e+00  4.190025e+03     283.000000  \n",
       "50%    0.000000e+00  1.150324e+04     712.000000  \n",
       "75%    0.000000e+00  2.219558e+04    1017.000000  \n",
       "max    1.722356e+09  1.496733e+06  395516.710000  "
      ]
     },
     "execution_count": 5,
     "metadata": {},
     "output_type": "execute_result"
    }
   ],
   "source": [
    "dataset.describe()"
   ]
  },
  {
   "cell_type": "code",
   "execution_count": 6,
   "metadata": {
    "ExecuteTime": {
     "end_time": "2024-01-10T13:01:10.688181100Z",
     "start_time": "2024-01-10T13:01:10.560656Z"
    },
    "collapsed": false
   },
   "outputs": [
    {
     "data": {
      "text/plain": [
       "Sl                           0\n",
       "domain_name                  0\n",
       "zone_name                    0\n",
       "area_name                    0\n",
       "branch_name                  0\n",
       "branch_code                  0\n",
       "Samity                       0\n",
       "branc_code                   0\n",
       "Member_code                  0\n",
       "Member_name                  0\n",
       "Spouse_name                  0\n",
       "Mobile_no                29742\n",
       "Component_name             256\n",
       "Loan_code                    0\n",
       "Loan_cycle                   0\n",
       "Loan_disburse_date       28107\n",
       "Disburse_amount              0\n",
       "Last_transaction_date      133\n",
       "Date_last_installment       32\n",
       "Present_loan_amount          1\n",
       "Due_amount                   1\n",
       "Saving_balance               1\n",
       "Member                     490\n",
       "Organization              1033\n",
       "Day_expire               61766\n",
       "dtype: int64"
      ]
     },
     "execution_count": 6,
     "metadata": {},
     "output_type": "execute_result"
    }
   ],
   "source": [
    "dataset.isnull().sum()"
   ]
  },
  {
   "cell_type": "code",
   "execution_count": 7,
   "metadata": {
    "ExecuteTime": {
     "end_time": "2024-01-10T13:01:10.839657100Z",
     "start_time": "2024-01-10T13:01:10.686182900Z"
    },
    "collapsed": false
   },
   "outputs": [
    {
     "data": {
      "text/plain": [
       "Mobile_no                29742\n",
       "Component_name             256\n",
       "Loan_disburse_date       28107\n",
       "Last_transaction_date      133\n",
       "Date_last_installment       32\n",
       "Present_loan_amount          1\n",
       "Due_amount                   1\n",
       "Saving_balance               1\n",
       "Member                     490\n",
       "Organization              1033\n",
       "Day_expire               61766\n",
       "dtype: int64"
      ]
     },
     "execution_count": 7,
     "metadata": {},
     "output_type": "execute_result"
    }
   ],
   "source": [
    "# Identify the columns that contain null values\n",
    "null_columns = dataset.columns[dataset.isnull().any()]\n",
    "# Count the number of null values in each of these columns\n",
    "dataset[null_columns].isnull().sum()"
   ]
  },
  {
   "cell_type": "code",
   "execution_count": 8,
   "metadata": {
    "ExecuteTime": {
     "end_time": "2024-01-10T13:01:10.918176400Z",
     "start_time": "2024-01-10T13:01:10.841656Z"
    }
   },
   "outputs": [
    {
     "name": "stdout",
     "output_type": "stream",
     "text": [
      "Mobile_no                float64\n",
      "Component_name            object\n",
      "Loan_disburse_date        object\n",
      "Last_transaction_date     object\n",
      "Date_last_installment     object\n",
      "Present_loan_amount      float64\n",
      "Due_amount               float64\n",
      "Saving_balance           float64\n",
      "Member                   float64\n",
      "Organization             float64\n",
      "Day_expire               float64\n",
      "dtype: object\n"
     ]
    }
   ],
   "source": [
    "print(dataset[null_columns].dtypes[dataset[null_columns].isnull().any()])"
   ]
  },
  {
   "cell_type": "code",
   "execution_count": 9,
   "metadata": {
    "ExecuteTime": {
     "end_time": "2024-01-10T13:01:10.997701Z",
     "start_time": "2024-01-10T13:01:10.921179700Z"
    },
    "collapsed": false
   },
   "outputs": [],
   "source": [
    "dataset.drop(dataset.columns[0], axis=1, inplace=True)  # Dropping the first column from the dataset"
   ]
  },
  {
   "cell_type": "code",
   "execution_count": 10,
   "metadata": {
    "ExecuteTime": {
     "end_time": "2024-01-10T13:01:11.196747100Z",
     "start_time": "2024-01-10T13:01:10.997701Z"
    }
   },
   "outputs": [
    {
     "data": {
      "text/html": [
       "<div>\n",
       "<style scoped>\n",
       "    .dataframe tbody tr th:only-of-type {\n",
       "        vertical-align: middle;\n",
       "    }\n",
       "\n",
       "    .dataframe tbody tr th {\n",
       "        vertical-align: top;\n",
       "    }\n",
       "\n",
       "    .dataframe thead th {\n",
       "        text-align: right;\n",
       "    }\n",
       "</style>\n",
       "<table border=\"1\" class=\"dataframe\">\n",
       "  <thead>\n",
       "    <tr style=\"text-align: right;\">\n",
       "      <th></th>\n",
       "      <th>domain_name</th>\n",
       "      <th>zone_name</th>\n",
       "      <th>area_name</th>\n",
       "      <th>branch_name</th>\n",
       "      <th>branch_code</th>\n",
       "      <th>Samity</th>\n",
       "      <th>branc_code</th>\n",
       "      <th>Member_code</th>\n",
       "      <th>Member_name</th>\n",
       "      <th>Spouse_name</th>\n",
       "      <th>...</th>\n",
       "      <th>Loan_disburse_date</th>\n",
       "      <th>Disburse_amount</th>\n",
       "      <th>Last_transaction_date</th>\n",
       "      <th>Date_last_installment</th>\n",
       "      <th>Present_loan_amount</th>\n",
       "      <th>Due_amount</th>\n",
       "      <th>Saving_balance</th>\n",
       "      <th>Member</th>\n",
       "      <th>Organization</th>\n",
       "      <th>Day_expire</th>\n",
       "    </tr>\n",
       "  </thead>\n",
       "  <tbody>\n",
       "    <tr>\n",
       "      <th>0</th>\n",
       "      <td>OP-3</td>\n",
       "      <td>Najipur</td>\n",
       "      <td>Akkelpur</td>\n",
       "      <td>Akkelpur</td>\n",
       "      <td>30</td>\n",
       "      <td>0030-002-Horipur SMS 002</td>\n",
       "      <td>30</td>\n",
       "      <td>0030-002-0302</td>\n",
       "      <td>Dulale</td>\n",
       "      <td>Anower /</td>\n",
       "      <td>...</td>\n",
       "      <td>27/02/2020</td>\n",
       "      <td>25000</td>\n",
       "      <td>25/06/2022</td>\n",
       "      <td>25/05/2021</td>\n",
       "      <td>11862.83</td>\n",
       "      <td>11862.83</td>\n",
       "      <td>142.0</td>\n",
       "      <td>0.0</td>\n",
       "      <td>11720.83</td>\n",
       "      <td>919.0</td>\n",
       "    </tr>\n",
       "    <tr>\n",
       "      <th>1</th>\n",
       "      <td>OP-3</td>\n",
       "      <td>Najipur</td>\n",
       "      <td>Akkelpur</td>\n",
       "      <td>Akkelpur</td>\n",
       "      <td>30</td>\n",
       "      <td>0030-002-Horipur SMS 002</td>\n",
       "      <td>30</td>\n",
       "      <td>0030-002-0304</td>\n",
       "      <td>Marufa</td>\n",
       "      <td>Munjul Mondol / Motaleb</td>\n",
       "      <td>...</td>\n",
       "      <td>09/11/2022</td>\n",
       "      <td>50000</td>\n",
       "      <td>31/10/2023</td>\n",
       "      <td>07/11/2023</td>\n",
       "      <td>13758.65</td>\n",
       "      <td>13758.65</td>\n",
       "      <td>10581.0</td>\n",
       "      <td>0.0</td>\n",
       "      <td>3177.65</td>\n",
       "      <td>23.0</td>\n",
       "    </tr>\n",
       "    <tr>\n",
       "      <th>2</th>\n",
       "      <td>OP-3</td>\n",
       "      <td>Najipur</td>\n",
       "      <td>Akkelpur</td>\n",
       "      <td>Akkelpur</td>\n",
       "      <td>30</td>\n",
       "      <td>0030-002-Horipur SMS 002</td>\n",
       "      <td>30</td>\n",
       "      <td>0030-002-0327</td>\n",
       "      <td>Mst Marijina Bibi</td>\n",
       "      <td>Md Mogahar / Md Mogahar Mondul</td>\n",
       "      <td>...</td>\n",
       "      <td>15/03/2023</td>\n",
       "      <td>120000</td>\n",
       "      <td>03/10/2023</td>\n",
       "      <td>16/03/2024</td>\n",
       "      <td>62654.63</td>\n",
       "      <td>22584.14</td>\n",
       "      <td>12897.0</td>\n",
       "      <td>0.0</td>\n",
       "      <td>49757.63</td>\n",
       "      <td>NaN</td>\n",
       "    </tr>\n",
       "    <tr>\n",
       "      <th>3</th>\n",
       "      <td>OP-3</td>\n",
       "      <td>Najipur</td>\n",
       "      <td>Akkelpur</td>\n",
       "      <td>Akkelpur</td>\n",
       "      <td>30</td>\n",
       "      <td>0030-002-Horipur SMS 002</td>\n",
       "      <td>30</td>\n",
       "      <td>0030-002-0269</td>\n",
       "      <td>Anowara</td>\n",
       "      <td>Sohidul /</td>\n",
       "      <td>...</td>\n",
       "      <td>10/11/2022</td>\n",
       "      <td>90000</td>\n",
       "      <td>31/10/2023</td>\n",
       "      <td>11/11/2023</td>\n",
       "      <td>29844.93</td>\n",
       "      <td>29844.93</td>\n",
       "      <td>12577.0</td>\n",
       "      <td>0.0</td>\n",
       "      <td>17267.93</td>\n",
       "      <td>19.0</td>\n",
       "    </tr>\n",
       "    <tr>\n",
       "      <th>4</th>\n",
       "      <td>OP-3</td>\n",
       "      <td>Najipur</td>\n",
       "      <td>Akkelpur</td>\n",
       "      <td>Akkelpur</td>\n",
       "      <td>30</td>\n",
       "      <td>0030-002-Horipur SMS 002</td>\n",
       "      <td>30</td>\n",
       "      <td>0030-002-0340</td>\n",
       "      <td>Mst.Jorina Bibi</td>\n",
       "      <td>Md.Julfikar Rahman / Md.Sams Uddin</td>\n",
       "      <td>...</td>\n",
       "      <td>29/12/2022</td>\n",
       "      <td>50000</td>\n",
       "      <td>31/10/2023</td>\n",
       "      <td>26/12/2023</td>\n",
       "      <td>19209.41</td>\n",
       "      <td>15047.91</td>\n",
       "      <td>6481.0</td>\n",
       "      <td>0.0</td>\n",
       "      <td>12728.41</td>\n",
       "      <td>NaN</td>\n",
       "    </tr>\n",
       "    <tr>\n",
       "      <th>...</th>\n",
       "      <td>...</td>\n",
       "      <td>...</td>\n",
       "      <td>...</td>\n",
       "      <td>...</td>\n",
       "      <td>...</td>\n",
       "      <td>...</td>\n",
       "      <td>...</td>\n",
       "      <td>...</td>\n",
       "      <td>...</td>\n",
       "      <td>...</td>\n",
       "      <td>...</td>\n",
       "      <td>...</td>\n",
       "      <td>...</td>\n",
       "      <td>...</td>\n",
       "      <td>...</td>\n",
       "      <td>...</td>\n",
       "      <td>...</td>\n",
       "      <td>...</td>\n",
       "      <td>...</td>\n",
       "      <td>...</td>\n",
       "      <td>...</td>\n",
       "    </tr>\n",
       "    <tr>\n",
       "      <th>270498</th>\n",
       "      <td>OP-12</td>\n",
       "      <td>Netrokona</td>\n",
       "      <td>Modonpur-2</td>\n",
       "      <td>Atpara</td>\n",
       "      <td>686</td>\n",
       "      <td>0686-099-Mongol Hatta 2</td>\n",
       "      <td>686</td>\n",
       "      <td>0686-099-0007</td>\n",
       "      <td>Rehena Akter</td>\n",
       "      <td>Riad Mia / Sayed</td>\n",
       "      <td>...</td>\n",
       "      <td>14/09/2023</td>\n",
       "      <td>36000</td>\n",
       "      <td>26/11/2023</td>\n",
       "      <td>11/08/2024</td>\n",
       "      <td>30026.62</td>\n",
       "      <td>1888.20</td>\n",
       "      <td>3368.0</td>\n",
       "      <td>0.0</td>\n",
       "      <td>26658.62</td>\n",
       "      <td>NaN</td>\n",
       "    </tr>\n",
       "    <tr>\n",
       "      <th>270499</th>\n",
       "      <td>OP-12</td>\n",
       "      <td>Netrokona</td>\n",
       "      <td>Modonpur-2</td>\n",
       "      <td>Atpara</td>\n",
       "      <td>686</td>\n",
       "      <td>0686-099-Mongol Hatta 2</td>\n",
       "      <td>686</td>\n",
       "      <td>0686-099-0002</td>\n",
       "      <td>Rina Akter</td>\n",
       "      <td>Ahmed / Hafij Ali</td>\n",
       "      <td>...</td>\n",
       "      <td>24/09/2023</td>\n",
       "      <td>46000</td>\n",
       "      <td>29/10/2023</td>\n",
       "      <td>25/08/2024</td>\n",
       "      <td>41978.70</td>\n",
       "      <td>4014.20</td>\n",
       "      <td>4988.0</td>\n",
       "      <td>0.0</td>\n",
       "      <td>36990.70</td>\n",
       "      <td>NaN</td>\n",
       "    </tr>\n",
       "    <tr>\n",
       "      <th>270500</th>\n",
       "      <td>OP-12</td>\n",
       "      <td>Netrokona</td>\n",
       "      <td>Modonpur-2</td>\n",
       "      <td>Atpara</td>\n",
       "      <td>686</td>\n",
       "      <td>0686-099-Mongol Hatta 2</td>\n",
       "      <td>686</td>\n",
       "      <td>0686-099-0003</td>\n",
       "      <td>Jhuma Akter</td>\n",
       "      <td>Saidul Islam / Ijjot Ali</td>\n",
       "      <td>...</td>\n",
       "      <td>24/09/2023</td>\n",
       "      <td>46000</td>\n",
       "      <td>31/10/2023</td>\n",
       "      <td>25/08/2024</td>\n",
       "      <td>41982.25</td>\n",
       "      <td>4017.75</td>\n",
       "      <td>4207.0</td>\n",
       "      <td>0.0</td>\n",
       "      <td>37775.25</td>\n",
       "      <td>NaN</td>\n",
       "    </tr>\n",
       "    <tr>\n",
       "      <th>270501</th>\n",
       "      <td>OP-12</td>\n",
       "      <td>Netrokona</td>\n",
       "      <td>Modonpur-2</td>\n",
       "      <td>Atpara</td>\n",
       "      <td>686</td>\n",
       "      <td>0686-100-Sebachrom 2</td>\n",
       "      <td>686</td>\n",
       "      <td>0686-100-0001</td>\n",
       "      <td>Akhi</td>\n",
       "      <td>Baccu Alom / Baccu Mia</td>\n",
       "      <td>...</td>\n",
       "      <td>15/11/2022</td>\n",
       "      <td>50000</td>\n",
       "      <td>31/10/2023</td>\n",
       "      <td>15/11/2023</td>\n",
       "      <td>4207.05</td>\n",
       "      <td>4207.05</td>\n",
       "      <td>3465.0</td>\n",
       "      <td>0.0</td>\n",
       "      <td>742.05</td>\n",
       "      <td>15.0</td>\n",
       "    </tr>\n",
       "    <tr>\n",
       "      <th>270502</th>\n",
       "      <td>OP-12</td>\n",
       "      <td>Netrokona</td>\n",
       "      <td>Modonpur-2</td>\n",
       "      <td>Atpara</td>\n",
       "      <td>686</td>\n",
       "      <td>0686-100-Sebachrom 2</td>\n",
       "      <td>686</td>\n",
       "      <td>0686-100-0007</td>\n",
       "      <td>Shefali Akter</td>\n",
       "      <td>Siraj / Anjraj Mia</td>\n",
       "      <td>...</td>\n",
       "      <td>18/05/2023</td>\n",
       "      <td>50000</td>\n",
       "      <td>15/11/2023</td>\n",
       "      <td>18/05/2024</td>\n",
       "      <td>30704.85</td>\n",
       "      <td>5682.82</td>\n",
       "      <td>2889.0</td>\n",
       "      <td>0.0</td>\n",
       "      <td>27815.85</td>\n",
       "      <td>NaN</td>\n",
       "    </tr>\n",
       "  </tbody>\n",
       "</table>\n",
       "<p>270503 rows × 24 columns</p>\n",
       "</div>"
      ],
      "text/plain": [
       "       domain_name  zone_name   area_name branch_name  branch_code  \\\n",
       "0             OP-3    Najipur    Akkelpur    Akkelpur           30   \n",
       "1             OP-3    Najipur    Akkelpur    Akkelpur           30   \n",
       "2             OP-3    Najipur    Akkelpur    Akkelpur           30   \n",
       "3             OP-3    Najipur    Akkelpur    Akkelpur           30   \n",
       "4             OP-3    Najipur    Akkelpur    Akkelpur           30   \n",
       "...            ...        ...         ...         ...          ...   \n",
       "270498       OP-12  Netrokona  Modonpur-2      Atpara          686   \n",
       "270499       OP-12  Netrokona  Modonpur-2      Atpara          686   \n",
       "270500       OP-12  Netrokona  Modonpur-2      Atpara          686   \n",
       "270501       OP-12  Netrokona  Modonpur-2      Atpara          686   \n",
       "270502       OP-12  Netrokona  Modonpur-2      Atpara          686   \n",
       "\n",
       "                          Samity  branc_code    Member_code  \\\n",
       "0       0030-002-Horipur SMS 002          30  0030-002-0302   \n",
       "1       0030-002-Horipur SMS 002          30  0030-002-0304   \n",
       "2       0030-002-Horipur SMS 002          30  0030-002-0327   \n",
       "3       0030-002-Horipur SMS 002          30  0030-002-0269   \n",
       "4       0030-002-Horipur SMS 002          30  0030-002-0340   \n",
       "...                          ...         ...            ...   \n",
       "270498   0686-099-Mongol Hatta 2         686  0686-099-0007   \n",
       "270499   0686-099-Mongol Hatta 2         686  0686-099-0002   \n",
       "270500   0686-099-Mongol Hatta 2         686  0686-099-0003   \n",
       "270501      0686-100-Sebachrom 2         686  0686-100-0001   \n",
       "270502      0686-100-Sebachrom 2         686  0686-100-0007   \n",
       "\n",
       "              Member_name                         Spouse_name  ...  \\\n",
       "0                  Dulale                            Anower /  ...   \n",
       "1                  Marufa             Munjul Mondol / Motaleb  ...   \n",
       "2       Mst Marijina Bibi      Md Mogahar / Md Mogahar Mondul  ...   \n",
       "3                 Anowara                           Sohidul /  ...   \n",
       "4         Mst.Jorina Bibi  Md.Julfikar Rahman / Md.Sams Uddin  ...   \n",
       "...                   ...                                 ...  ...   \n",
       "270498       Rehena Akter                    Riad Mia / Sayed  ...   \n",
       "270499         Rina Akter                   Ahmed / Hafij Ali  ...   \n",
       "270500        Jhuma Akter            Saidul Islam / Ijjot Ali  ...   \n",
       "270501               Akhi              Baccu Alom / Baccu Mia  ...   \n",
       "270502      Shefali Akter                  Siraj / Anjraj Mia  ...   \n",
       "\n",
       "        Loan_disburse_date Disburse_amount Last_transaction_date  \\\n",
       "0               27/02/2020           25000            25/06/2022   \n",
       "1               09/11/2022           50000            31/10/2023   \n",
       "2               15/03/2023          120000            03/10/2023   \n",
       "3               10/11/2022           90000            31/10/2023   \n",
       "4               29/12/2022           50000            31/10/2023   \n",
       "...                    ...             ...                   ...   \n",
       "270498          14/09/2023           36000            26/11/2023   \n",
       "270499          24/09/2023           46000            29/10/2023   \n",
       "270500          24/09/2023           46000            31/10/2023   \n",
       "270501          15/11/2022           50000            31/10/2023   \n",
       "270502          18/05/2023           50000            15/11/2023   \n",
       "\n",
       "       Date_last_installment Present_loan_amount  Due_amount Saving_balance  \\\n",
       "0                 25/05/2021            11862.83    11862.83          142.0   \n",
       "1                 07/11/2023            13758.65    13758.65        10581.0   \n",
       "2                 16/03/2024            62654.63    22584.14        12897.0   \n",
       "3                 11/11/2023            29844.93    29844.93        12577.0   \n",
       "4                 26/12/2023            19209.41    15047.91         6481.0   \n",
       "...                      ...                 ...         ...            ...   \n",
       "270498            11/08/2024            30026.62     1888.20         3368.0   \n",
       "270499            25/08/2024            41978.70     4014.20         4988.0   \n",
       "270500            25/08/2024            41982.25     4017.75         4207.0   \n",
       "270501            15/11/2023             4207.05     4207.05         3465.0   \n",
       "270502            18/05/2024            30704.85     5682.82         2889.0   \n",
       "\n",
       "       Member  Organization  Day_expire  \n",
       "0         0.0      11720.83       919.0  \n",
       "1         0.0       3177.65        23.0  \n",
       "2         0.0      49757.63         NaN  \n",
       "3         0.0      17267.93        19.0  \n",
       "4         0.0      12728.41         NaN  \n",
       "...       ...           ...         ...  \n",
       "270498    0.0      26658.62         NaN  \n",
       "270499    0.0      36990.70         NaN  \n",
       "270500    0.0      37775.25         NaN  \n",
       "270501    0.0        742.05        15.0  \n",
       "270502    0.0      27815.85         NaN  \n",
       "\n",
       "[270503 rows x 24 columns]"
      ]
     },
     "execution_count": 10,
     "metadata": {},
     "output_type": "execute_result"
    }
   ],
   "source": [
    "dataset"
   ]
  },
  {
   "cell_type": "code",
   "execution_count": 11,
   "metadata": {
    "ExecuteTime": {
     "end_time": "2024-01-10T13:01:11.750396800Z",
     "start_time": "2024-01-10T13:01:11.201753500Z"
    },
    "collapsed": false
   },
   "outputs": [
    {
     "name": "stdout",
     "output_type": "stream",
     "text": [
      "Missing values in the financial data:\n",
      "Present_loan_amount        1\n",
      "Due_amount                 1\n",
      "Saving_balance             1\n",
      "Day_expire             61766\n",
      "dtype: int64\n",
      "First few rows of the financial data:\n",
      "   Present_loan_amount  Due_amount  Saving_balance  Day_expire\n",
      "0             11862.83    11862.83           142.0       919.0\n",
      "1             13758.65    13758.65         10581.0        23.0\n",
      "2             62654.63    22584.14         12897.0         NaN\n",
      "3             29844.93    29844.93         12577.0        19.0\n",
      "4             19209.41    15047.91          6481.0         NaN\n"
     ]
    },
    {
     "data": {
      "image/png": "[encoded data removed]",
      "text/plain": [
       "<Figure size 640x480 with 1 Axes>"
      ]
     },
     "metadata": {},
     "output_type": "display_data"
    },
    {
     "name": "stdout",
     "output_type": "stream",
     "text": [
      "Statistical summary of the financial data:\n",
      "       Present_loan_amount    Due_amount  Saving_balance     Day_expire\n",
      "count         2.705020e+05  2.705020e+05   270502.000000  208737.000000\n",
      "mean          2.622090e+04  1.958301e+04     5848.544038    3529.741433\n",
      "std           2.930779e+04  2.540436e+04    11062.111015   12631.646625\n",
      "min           8.900000e-01  8.900000e-01    -7027.000000       0.000000\n",
      "25%           9.322097e+03  6.519820e+03      100.000000     283.000000\n",
      "50%           1.862467e+04  1.295154e+04     3351.000000     712.000000\n",
      "75%           3.656388e+04  2.326264e+04     6906.000000    1017.000000\n",
      "max           1.496733e+06  1.496733e+06   860951.000000  395516.710000\n"
     ]
    }
   ],
   "source": [
    "# Extracting the required columns\n",
    "columns_to_plot = ['Present_loan_amount', 'Due_amount', 'Saving_balance', 'Day_expire']\n",
    "financial_data = dataset[columns_to_plot]\n",
    "\n",
    "# Checking for missing values\n",
    "print(\"Missing values in the financial data:\")\n",
    "print(financial_data.isnull().sum())\n",
    "\n",
    "# Print the first few rows of the financial data\n",
    "print(\"First few rows of the financial data:\")\n",
    "print(financial_data.head())\n",
    "\n",
    "# Plotting the boxplot\n",
    "financial_data.plot(kind='box')\n",
    "\n",
    "plt.title('Boxplot of Financial Data')\n",
    "plt.xlabel('Financial Categories')\n",
    "plt.ylabel('Value')\n",
    "plt.grid(True)\n",
    "plt.show()\n",
    "\n",
    "# Displaying statistical summary of the financial data\n",
    "print(\"Statistical summary of the financial data:\")\n",
    "print(financial_data.describe())"
   ]
  },
  {
   "cell_type": "code",
   "execution_count": 12,
   "metadata": {
    "ExecuteTime": {
     "end_time": "2024-01-10T13:01:12.264904900Z",
     "start_time": "2024-01-10T13:01:11.717399800Z"
    }
   },
   "outputs": [
    {
     "data": {
      "image/png": "[encoded data removed]",
      "text/plain": [
       "<Figure size 1000x600 with 1 Axes>"
      ]
     },
     "metadata": {},
     "output_type": "display_data"
    }
   ],
   "source": [
    "# group by Samity present_loan_amount and due_amount\n",
    "grouped_data = dataset.groupby(['Samity', 'zone_name'])[['Present_loan_amount', 'Due_amount']].sum() # Grouping the data by Samity and zone_name\n",
    "grouped_data = grouped_data.sort_values(by=['Present_loan_amount'], ascending=False) # Sorting the data\n",
    "grouped_data = grouped_data.head(10) # Selecting the top 10 Samities\n",
    "grouped_data.plot(kind='bar', figsize=(10, 6)) # Plotting the bar chart\n",
    "plt.title('Top 10 Samities with highest loan amount by Zone') # Decorating the graph title\n",
    "plt.xlabel('Samity, Zone') # Adding zone_name to the x-label\n",
    "plt.ylabel('Loan Amount')\n",
    "plt.grid(True)\n",
    "plt.show()"
   ]
  },
  {
   "cell_type": "code",
   "execution_count": 13,
   "metadata": {
    "ExecuteTime": {
     "end_time": "2024-01-10T13:01:12.891792800Z",
     "start_time": "2024-01-10T13:01:12.268905500Z"
    },
    "collapsed": false
   },
   "outputs": [
    {
     "data": {
      "image/png": "[encoded data removed]",
      "text/plain": [
       "<Figure size 1000x600 with 1 Axes>"
      ]
     },
     "metadata": {},
     "output_type": "display_data"
    }
   ],
   "source": [
    "# show total loan amount by Member_name by Loan_cycle, Loan_disburse_date, Disburse_amount, Last_transaction_date by Member_name\n",
    "grouped_data = dataset.groupby(['Member_name'])[['Present_loan_amount', 'Loan_cycle', 'Loan_disburse_date', 'Disburse_amount', 'Last_transaction_date']].sum() # Grouping the data by Member_name\n",
    "grouped_data = grouped_data.sort_values(by=['Present_loan_amount'], ascending=False) # Sorting the data\n",
    "grouped_data = grouped_data.head(10) # Selecting the top 10 Members\n",
    "grouped_data.plot(kind='bar', figsize=(10, 6)) # Plotting the bar chart\n",
    "plt.title('Top 10 Members with highest loan amount') # Decorating the graph title\n",
    "plt.xlabel('Member_name') # Adding zone_name to the x-label\n",
    "plt.ylabel('Loan Amount')\n",
    "plt.grid(True)\n",
    "plt.show()"
   ]
  },
  {
   "cell_type": "code",
   "execution_count": 14,
   "metadata": {
    "ExecuteTime": {
     "end_time": "2024-01-10T13:01:13.419488800Z",
     "start_time": "2024-01-10T13:01:12.897306900Z"
    },
    "collapsed": false
   },
   "outputs": [
    {
     "data": {
      "image/png": "[encoded data removed]",
      "text/plain": [
       "<Figure size 1200x800 with 1 Axes>"
      ]
     },
     "metadata": {},
     "output_type": "display_data"
    }
   ],
   "source": [
    "# Set the style to 'seaborn'\n",
    "sns.set()\n",
    "\n",
    "# Grouping the data by Member_name and selecting the top 10 Members with the highest loan amount\n",
    "grouped_data = dataset.groupby(['Member_name'])[['Present_loan_amount']].sum().sort_values(by=['Present_loan_amount'], ascending=False).head(10)\n",
    "\n",
    "# Plotting the bar chart\n",
    "fig, ax = plt.subplots(figsize=(12, 8))\n",
    "bars = ax.bar(grouped_data.index, grouped_data['Present_loan_amount'], color='skyblue')\n",
    "\n",
    "# Adding data labels on top of the bars\n",
    "for bar in bars:\n",
    "    yval = bar.get_height()\n",
    "    plt.text(bar.get_x() + bar.get_width()/2, yval + 5000, round(yval, 2), ha='center', va='bottom', color='black', fontsize=10)\n",
    "\n",
    "# Decorating the graph\n",
    "plt.title('Top 10 Members with Highest Loan Amount', fontsize=16)\n",
    "plt.xlabel('Member Name', fontsize=12)\n",
    "plt.ylabel('Loan Amount', fontsize=12)\n",
    "plt.xticks(rotation=45, ha='right')  # Rotate x-axis labels for better readability\n",
    "plt.grid(axis='y', linestyle='--', alpha=0.7)  # Adding grid lines for y-axis\n",
    "\n",
    "# Show the plot\n",
    "plt.show()"
   ]
  },
  {
   "cell_type": "code",
   "execution_count": 15,
   "metadata": {
    "ExecuteTime": {
     "end_time": "2024-01-10T13:01:13.883880Z",
     "start_time": "2024-01-10T13:01:13.423491300Z"
    },
    "collapsed": false
   },
   "outputs": [
    {
     "data": {
      "image/png": "[encoded data removed]",
      "text/plain": [
       "<Figure size 1000x600 with 1 Axes>"
      ]
     },
     "metadata": {},
     "output_type": "display_data"
    }
   ],
   "source": [
    "# show member with lowest loan amount\n",
    "grouped_data = dataset.groupby(['Member_name'])[['Present_loan_amount']].sum() # Grouping the data by Member_name\n",
    "grouped_data = grouped_data.sort_values(by=['Present_loan_amount'], ascending=True) # Sorting the data\n",
    "grouped_data = grouped_data.head(10) # Selecting the top 10 Members\n",
    "grouped_data.plot(kind='bar', figsize=(10, 6)) # Plotting the bar chart\n",
    "plt.title('Top 10 Members with lowest loan amount') # Decorating the graph title\n",
    "plt.xlabel('Member_name') # Adding zone_name to the x-label\n",
    "plt.ylabel('Loan Amount')\n",
    "plt.grid(True)\n",
    "plt.show()"
   ]
  },
  {
   "cell_type": "code",
   "execution_count": 16,
   "metadata": {
    "ExecuteTime": {
     "end_time": "2024-01-10T13:01:13.899400Z",
     "start_time": "2024-01-10T13:01:13.885879500Z"
    },
    "collapsed": false
   },
   "outputs": [
    {
     "data": {
      "text/plain": [
       "domain_name               object\n",
       "zone_name                 object\n",
       "area_name                 object\n",
       "branch_name               object\n",
       "branch_code                int64\n",
       "Samity                    object\n",
       "branc_code                 int64\n",
       "Member_code               object\n",
       "Member_name               object\n",
       "Spouse_name               object\n",
       "Mobile_no                float64\n",
       "Component_name            object\n",
       "Loan_code                 object\n",
       "Loan_cycle                object\n",
       "Loan_disburse_date        object\n",
       "Disburse_amount            int64\n",
       "Last_transaction_date     object\n",
       "Date_last_installment     object\n",
       "Present_loan_amount      float64\n",
       "Due_amount               float64\n",
       "Saving_balance           float64\n",
       "Member                   float64\n",
       "Organization             float64\n",
       "Day_expire               float64\n",
       "dtype: object"
      ]
     },
     "execution_count": 16,
     "metadata": {},
     "output_type": "execute_result"
    }
   ],
   "source": [
    "# show the datatype of each column\n",
    "dataset.dtypes"
   ]
  },
  {
   "cell_type": "code",
   "execution_count": 17,
   "metadata": {
    "ExecuteTime": {
     "end_time": "2024-01-10T13:01:14.015469700Z",
     "start_time": "2024-01-10T13:01:13.902404500Z"
    },
    "collapsed": false
   },
   "outputs": [],
   "source": [
    "# feach all important columns in impt_columns\n",
    "impt_columns = ['Member_name', 'Present_loan_amount', 'Due_amount', 'Saving_balance', 'Day_expire', 'Loan_cycle', 'Loan_disburse_date', 'Disburse_amount', 'Last_transaction_date', 'Samity', 'zone_name']\n",
    "# savve impt_columns in new dataset name important_data\n",
    "important_data = dataset[impt_columns]"
   ]
  },
  {
   "cell_type": "code",
   "execution_count": 18,
   "metadata": {
    "ExecuteTime": {
     "end_time": "2024-01-10T13:01:14.015469700Z",
     "start_time": "2024-01-10T13:01:13.933402400Z"
    },
    "collapsed": false
   },
   "outputs": [
    {
     "data": {
      "text/html": [
       "<div>\n",
       "<style scoped>\n",
       "    .dataframe tbody tr th:only-of-type {\n",
       "        vertical-align: middle;\n",
       "    }\n",
       "\n",
       "    .dataframe tbody tr th {\n",
       "        vertical-align: top;\n",
       "    }\n",
       "\n",
       "    .dataframe thead th {\n",
       "        text-align: right;\n",
       "    }\n",
       "</style>\n",
       "<table border=\"1\" class=\"dataframe\">\n",
       "  <thead>\n",
       "    <tr style=\"text-align: right;\">\n",
       "      <th></th>\n",
       "      <th>Member_name</th>\n",
       "      <th>Present_loan_amount</th>\n",
       "      <th>Due_amount</th>\n",
       "      <th>Saving_balance</th>\n",
       "      <th>Day_expire</th>\n",
       "      <th>Loan_cycle</th>\n",
       "      <th>Loan_disburse_date</th>\n",
       "      <th>Disburse_amount</th>\n",
       "      <th>Last_transaction_date</th>\n",
       "      <th>Samity</th>\n",
       "      <th>zone_name</th>\n",
       "    </tr>\n",
       "  </thead>\n",
       "  <tbody>\n",
       "    <tr>\n",
       "      <th>0</th>\n",
       "      <td>Dulale</td>\n",
       "      <td>11862.83</td>\n",
       "      <td>11862.83</td>\n",
       "      <td>142.0</td>\n",
       "      <td>919.0</td>\n",
       "      <td>1</td>\n",
       "      <td>27/02/2020</td>\n",
       "      <td>25000</td>\n",
       "      <td>25/06/2022</td>\n",
       "      <td>0030-002-Horipur SMS 002</td>\n",
       "      <td>Najipur</td>\n",
       "    </tr>\n",
       "    <tr>\n",
       "      <th>1</th>\n",
       "      <td>Marufa</td>\n",
       "      <td>13758.65</td>\n",
       "      <td>13758.65</td>\n",
       "      <td>10581.0</td>\n",
       "      <td>23.0</td>\n",
       "      <td>4</td>\n",
       "      <td>09/11/2022</td>\n",
       "      <td>50000</td>\n",
       "      <td>31/10/2023</td>\n",
       "      <td>0030-002-Horipur SMS 002</td>\n",
       "      <td>Najipur</td>\n",
       "    </tr>\n",
       "    <tr>\n",
       "      <th>2</th>\n",
       "      <td>Mst Marijina Bibi</td>\n",
       "      <td>62654.63</td>\n",
       "      <td>22584.14</td>\n",
       "      <td>12897.0</td>\n",
       "      <td>NaN</td>\n",
       "      <td>2</td>\n",
       "      <td>15/03/2023</td>\n",
       "      <td>120000</td>\n",
       "      <td>03/10/2023</td>\n",
       "      <td>0030-002-Horipur SMS 002</td>\n",
       "      <td>Najipur</td>\n",
       "    </tr>\n",
       "    <tr>\n",
       "      <th>3</th>\n",
       "      <td>Anowara</td>\n",
       "      <td>29844.93</td>\n",
       "      <td>29844.93</td>\n",
       "      <td>12577.0</td>\n",
       "      <td>19.0</td>\n",
       "      <td>2</td>\n",
       "      <td>10/11/2022</td>\n",
       "      <td>90000</td>\n",
       "      <td>31/10/2023</td>\n",
       "      <td>0030-002-Horipur SMS 002</td>\n",
       "      <td>Najipur</td>\n",
       "    </tr>\n",
       "    <tr>\n",
       "      <th>4</th>\n",
       "      <td>Mst.Jorina Bibi</td>\n",
       "      <td>19209.41</td>\n",
       "      <td>15047.91</td>\n",
       "      <td>6481.0</td>\n",
       "      <td>NaN</td>\n",
       "      <td>1</td>\n",
       "      <td>29/12/2022</td>\n",
       "      <td>50000</td>\n",
       "      <td>31/10/2023</td>\n",
       "      <td>0030-002-Horipur SMS 002</td>\n",
       "      <td>Najipur</td>\n",
       "    </tr>\n",
       "    <tr>\n",
       "      <th>...</th>\n",
       "      <td>...</td>\n",
       "      <td>...</td>\n",
       "      <td>...</td>\n",
       "      <td>...</td>\n",
       "      <td>...</td>\n",
       "      <td>...</td>\n",
       "      <td>...</td>\n",
       "      <td>...</td>\n",
       "      <td>...</td>\n",
       "      <td>...</td>\n",
       "      <td>...</td>\n",
       "    </tr>\n",
       "    <tr>\n",
       "      <th>270498</th>\n",
       "      <td>Rehena Akter</td>\n",
       "      <td>30026.62</td>\n",
       "      <td>1888.20</td>\n",
       "      <td>3368.0</td>\n",
       "      <td>NaN</td>\n",
       "      <td>1</td>\n",
       "      <td>14/09/2023</td>\n",
       "      <td>36000</td>\n",
       "      <td>26/11/2023</td>\n",
       "      <td>0686-099-Mongol Hatta 2</td>\n",
       "      <td>Netrokona</td>\n",
       "    </tr>\n",
       "    <tr>\n",
       "      <th>270499</th>\n",
       "      <td>Rina Akter</td>\n",
       "      <td>41978.70</td>\n",
       "      <td>4014.20</td>\n",
       "      <td>4988.0</td>\n",
       "      <td>NaN</td>\n",
       "      <td>2</td>\n",
       "      <td>24/09/2023</td>\n",
       "      <td>46000</td>\n",
       "      <td>29/10/2023</td>\n",
       "      <td>0686-099-Mongol Hatta 2</td>\n",
       "      <td>Netrokona</td>\n",
       "    </tr>\n",
       "    <tr>\n",
       "      <th>270500</th>\n",
       "      <td>Jhuma Akter</td>\n",
       "      <td>41982.25</td>\n",
       "      <td>4017.75</td>\n",
       "      <td>4207.0</td>\n",
       "      <td>NaN</td>\n",
       "      <td>2</td>\n",
       "      <td>24/09/2023</td>\n",
       "      <td>46000</td>\n",
       "      <td>31/10/2023</td>\n",
       "      <td>0686-099-Mongol Hatta 2</td>\n",
       "      <td>Netrokona</td>\n",
       "    </tr>\n",
       "    <tr>\n",
       "      <th>270501</th>\n",
       "      <td>Akhi</td>\n",
       "      <td>4207.05</td>\n",
       "      <td>4207.05</td>\n",
       "      <td>3465.0</td>\n",
       "      <td>15.0</td>\n",
       "      <td>1</td>\n",
       "      <td>15/11/2022</td>\n",
       "      <td>50000</td>\n",
       "      <td>31/10/2023</td>\n",
       "      <td>0686-100-Sebachrom 2</td>\n",
       "      <td>Netrokona</td>\n",
       "    </tr>\n",
       "    <tr>\n",
       "      <th>270502</th>\n",
       "      <td>Shefali Akter</td>\n",
       "      <td>30704.85</td>\n",
       "      <td>5682.82</td>\n",
       "      <td>2889.0</td>\n",
       "      <td>NaN</td>\n",
       "      <td>1</td>\n",
       "      <td>18/05/2023</td>\n",
       "      <td>50000</td>\n",
       "      <td>15/11/2023</td>\n",
       "      <td>0686-100-Sebachrom 2</td>\n",
       "      <td>Netrokona</td>\n",
       "    </tr>\n",
       "  </tbody>\n",
       "</table>\n",
       "<p>270503 rows × 11 columns</p>\n",
       "</div>"
      ],
      "text/plain": [
       "              Member_name  Present_loan_amount  Due_amount  Saving_balance  \\\n",
       "0                  Dulale             11862.83    11862.83           142.0   \n",
       "1                  Marufa             13758.65    13758.65         10581.0   \n",
       "2       Mst Marijina Bibi             62654.63    22584.14         12897.0   \n",
       "3                 Anowara             29844.93    29844.93         12577.0   \n",
       "4         Mst.Jorina Bibi             19209.41    15047.91          6481.0   \n",
       "...                   ...                  ...         ...             ...   \n",
       "270498       Rehena Akter             30026.62     1888.20          3368.0   \n",
       "270499         Rina Akter             41978.70     4014.20          4988.0   \n",
       "270500        Jhuma Akter             41982.25     4017.75          4207.0   \n",
       "270501               Akhi              4207.05     4207.05          3465.0   \n",
       "270502      Shefali Akter             30704.85     5682.82          2889.0   \n",
       "\n",
       "        Day_expire Loan_cycle Loan_disburse_date  Disburse_amount  \\\n",
       "0            919.0          1         27/02/2020            25000   \n",
       "1             23.0          4         09/11/2022            50000   \n",
       "2              NaN          2         15/03/2023           120000   \n",
       "3             19.0          2         10/11/2022            90000   \n",
       "4              NaN          1         29/12/2022            50000   \n",
       "...            ...        ...                ...              ...   \n",
       "270498         NaN          1         14/09/2023            36000   \n",
       "270499         NaN          2         24/09/2023            46000   \n",
       "270500         NaN          2         24/09/2023            46000   \n",
       "270501        15.0          1         15/11/2022            50000   \n",
       "270502         NaN          1         18/05/2023            50000   \n",
       "\n",
       "       Last_transaction_date                    Samity  zone_name  \n",
       "0                 25/06/2022  0030-002-Horipur SMS 002    Najipur  \n",
       "1                 31/10/2023  0030-002-Horipur SMS 002    Najipur  \n",
       "2                 03/10/2023  0030-002-Horipur SMS 002    Najipur  \n",
       "3                 31/10/2023  0030-002-Horipur SMS 002    Najipur  \n",
       "4                 31/10/2023  0030-002-Horipur SMS 002    Najipur  \n",
       "...                      ...                       ...        ...  \n",
       "270498            26/11/2023   0686-099-Mongol Hatta 2  Netrokona  \n",
       "270499            29/10/2023   0686-099-Mongol Hatta 2  Netrokona  \n",
       "270500            31/10/2023   0686-099-Mongol Hatta 2  Netrokona  \n",
       "270501            31/10/2023      0686-100-Sebachrom 2  Netrokona  \n",
       "270502            15/11/2023      0686-100-Sebachrom 2  Netrokona  \n",
       "\n",
       "[270503 rows x 11 columns]"
      ]
     },
     "execution_count": 18,
     "metadata": {},
     "output_type": "execute_result"
    }
   ],
   "source": [
    "important_data"
   ]
  },
  {
   "cell_type": "code",
   "execution_count": 19,
   "metadata": {
    "ExecuteTime": {
     "end_time": "2024-01-10T13:01:14.016469700Z",
     "start_time": "2024-01-10T13:01:13.968400400Z"
    }
   },
   "outputs": [
    {
     "data": {
      "text/plain": [
       "Member_name               object\n",
       "Present_loan_amount      float64\n",
       "Due_amount               float64\n",
       "Saving_balance           float64\n",
       "Day_expire               float64\n",
       "Loan_cycle                object\n",
       "Loan_disburse_date        object\n",
       "Disburse_amount            int64\n",
       "Last_transaction_date     object\n",
       "Samity                    object\n",
       "zone_name                 object\n",
       "dtype: object"
      ]
     },
     "execution_count": 19,
     "metadata": {},
     "output_type": "execute_result"
    }
   ],
   "source": [
    "important_data.dtypes"
   ]
  },
  {
   "cell_type": "code",
   "execution_count": 20,
   "metadata": {
    "ExecuteTime": {
     "end_time": "2024-01-10T13:01:14.066588Z",
     "start_time": "2024-01-10T13:01:13.982406Z"
    }
   },
   "outputs": [
    {
     "name": "stdout",
     "output_type": "stream",
     "text": [
      "Missing values in the important data:\n",
      "Member_name                  0\n",
      "Present_loan_amount          1\n",
      "Due_amount                   1\n",
      "Saving_balance               1\n",
      "Day_expire               61766\n",
      "Loan_cycle                   0\n",
      "Loan_disburse_date       28107\n",
      "Disburse_amount              0\n",
      "Last_transaction_date      133\n",
      "Samity                       0\n",
      "zone_name                    0\n",
      "dtype: int64\n"
     ]
    }
   ],
   "source": [
    "# Show the number of missing values in each column\n",
    "print(\"Missing values in the important data:\")\n",
    "print(important_data.isnull().sum())"
   ]
  },
  {
   "cell_type": "code",
   "execution_count": 21,
   "metadata": {
    "ExecuteTime": {
     "end_time": "2024-01-10T13:01:14.105636600Z",
     "start_time": "2024-01-10T13:01:14.045472600Z"
    }
   },
   "outputs": [
    {
     "name": "stdout",
     "output_type": "stream",
     "text": [
      "Data type of Loan_disburse_date: object\n",
      "Data type of Last_transaction_date: object\n"
     ]
    }
   ],
   "source": [
    "# show the datatype for Loan_disburse_date and Last_transaction_date\n",
    "print(\"Data type of Loan_disburse_date:\", important_data['Loan_disburse_date'].dtype)\n",
    "print(\"Data type of Last_transaction_date:\", important_data['Last_transaction_date'].dtype)"
   ]
  },
  {
   "cell_type": "code",
   "execution_count": 22,
   "metadata": {
    "ExecuteTime": {
     "end_time": "2024-01-10T13:01:14.457779700Z",
     "start_time": "2024-01-10T13:01:14.063470Z"
    }
   },
   "outputs": [],
   "source": [
    "# Convert date columns to datetime\n",
    "dataset['Loan_disburse_date'] = pd.to_datetime(dataset['Loan_disburse_date'], format='%d/%m/%Y', errors='coerce')\n",
    "dataset['Last_transaction_date'] = pd.to_datetime(dataset['Last_transaction_date'], format='%d/%m/%Y', errors='coerce')\n",
    "\n",
    "# Calculate mean date\n",
    "mean_date_disburse = dataset['Loan_disburse_date'].mean()\n",
    "mean_date_transaction = dataset['Last_transaction_date'].mean()\n",
    "\n",
    "# Create a copy of the DataFrame\n",
    "important_data = dataset.copy()\n",
    "\n",
    "# Fill missing values with mean dates\n",
    "important_data['Loan_disburse_date'].fillna(mean_date_disburse, inplace=True)\n",
    "important_data['Last_transaction_date'].fillna(mean_date_transaction, inplace=True)\n",
    "\n",
    "# Update the original dataset with modified data\n",
    "dataset.update(important_data)"
   ]
  },
  {
   "cell_type": "code",
   "execution_count": 23,
   "metadata": {
    "ExecuteTime": {
     "end_time": "2024-01-10T13:01:14.472780700Z",
     "start_time": "2024-01-10T13:01:14.460779300Z"
    },
    "collapsed": false
   },
   "outputs": [
    {
     "name": "stdout",
     "output_type": "stream",
     "text": [
      "Data type of Mobile_no: float64\n",
      "Missing values in Mobile_no: 29742\n",
      "Data type of Mobile_no: int32\n",
      "Missing values in Mobile_no: 0\n"
     ]
    }
   ],
   "source": [
    "# data type of Mobile_no\n",
    "print(\"Data type of Mobile_no:\", important_data['Mobile_no'].dtype)\n",
    "# show missing values in Mobile_no\n",
    "print(\"Missing values in Mobile_no:\", important_data['Mobile_no'].isnull().sum())\n",
    "# insert 0 in missing values in Mobile_no\n",
    "important_data['Mobile_no'].fillna(0, inplace=True)\n",
    "# convert Mobile_no to int\n",
    "important_data['Mobile_no'] = important_data['Mobile_no'].astype(np.int32)\n",
    "# show data type of Mobile_no\n",
    "print(\"Data type of Mobile_no:\", important_data['Mobile_no'].dtype)\n",
    "# show missing values in Mobile_no\n",
    "print(\"Missing values in Mobile_no:\", important_data['Mobile_no'].isnull().sum())"
   ]
  },
  {
   "cell_type": "code",
   "execution_count": 24,
   "metadata": {
    "ExecuteTime": {
     "end_time": "2024-01-10T13:01:14.594851300Z",
     "start_time": "2024-01-10T13:01:14.474784500Z"
    },
    "collapsed": false
   },
   "outputs": [
    {
     "name": "stdout",
     "output_type": "stream",
     "text": [
      "Missing values in the important data:\n",
      "domain_name                  0\n",
      "zone_name                    0\n",
      "area_name                    0\n",
      "branch_name                  0\n",
      "branch_code                  0\n",
      "Samity                       0\n",
      "branc_code                   0\n",
      "Member_code                  0\n",
      "Member_name                  0\n",
      "Spouse_name                  0\n",
      "Mobile_no                    0\n",
      "Component_name             256\n",
      "Loan_code                    0\n",
      "Loan_cycle                   0\n",
      "Loan_disburse_date           0\n",
      "Disburse_amount              0\n",
      "Last_transaction_date        0\n",
      "Date_last_installment       32\n",
      "Present_loan_amount          1\n",
      "Due_amount                   1\n",
      "Saving_balance               1\n",
      "Member                     490\n",
      "Organization              1033\n",
      "Day_expire               61766\n",
      "dtype: int64\n"
     ]
    }
   ],
   "source": [
    "# Show the number of missing values in each column\n",
    "print(\"Missing values in the important data:\")\n",
    "print(important_data.isnull().sum())"
   ]
  },
  {
   "cell_type": "code",
   "execution_count": 25,
   "metadata": {
    "ExecuteTime": {
     "end_time": "2024-01-10T13:01:14.652859400Z",
     "start_time": "2024-01-10T13:01:14.596862500Z"
    },
    "collapsed": false
   },
   "outputs": [
    {
     "name": "stdout",
     "output_type": "stream",
     "text": [
      "Data type of Present_loan_amount: int32\n"
     ]
    }
   ],
   "source": [
    "# Fill NaN values with 0 in 'Present_loan_amount'\n",
    "important_data['Present_loan_amount'].fillna(0, inplace=True)\n",
    "\n",
    "# Convert 'Present_loan_amount' to int\n",
    "important_data['Present_loan_amount'] = important_data['Present_loan_amount'].astype(np.int32)\n",
    "\n",
    "# Show data type of 'Present_loan_amount'\n",
    "print(\"Data type of Present_loan_amount:\", important_data['Present_loan_amount'].dtype)"
   ]
  },
  {
   "cell_type": "code",
   "execution_count": 26,
   "metadata": {
    "ExecuteTime": {
     "end_time": "2024-01-10T13:01:14.663857700Z",
     "start_time": "2024-01-10T13:01:14.612861600Z"
    },
    "collapsed": false
   },
   "outputs": [
    {
     "name": "stdout",
     "output_type": "stream",
     "text": [
      "Data type of Due_amount: float64\n",
      "Missing values in Due_amount: 1\n",
      "Data type of Due_amount: int32\n",
      "Missing values in Due_amount: 0\n"
     ]
    }
   ],
   "source": [
    "# data type of Due_amount\n",
    "print(\"Data type of Due_amount:\", important_data['Due_amount'].dtype)\n",
    "# show missing values in Due_amount\n",
    "print(\"Missing values in Due_amount:\", important_data['Due_amount'].isnull().sum())\n",
    "# insert 0 in missing values in Due_amount\n",
    "important_data['Due_amount'].fillna(0, inplace=True)\n",
    "# convert Due_amount to int\n",
    "important_data['Due_amount'] = important_data['Due_amount'].astype(np.int32)\n",
    "# show data type of Due_amount\n",
    "print(\"Data type of Due_amount:\", important_data['Due_amount'].dtype)\n",
    "# show missing values in Due_amount\n",
    "print(\"Missing values in Due_amount:\", important_data['Due_amount'].isnull().sum())"
   ]
  },
  {
   "cell_type": "code",
   "execution_count": 27,
   "metadata": {
    "ExecuteTime": {
     "end_time": "2024-01-10T13:01:14.734379700Z",
     "start_time": "2024-01-10T13:01:14.627861300Z"
    },
    "collapsed": false
   },
   "outputs": [
    {
     "name": "stdout",
     "output_type": "stream",
     "text": [
      "Missing values in the important data:\n",
      "domain_name                  0\n",
      "zone_name                    0\n",
      "area_name                    0\n",
      "branch_name                  0\n",
      "branch_code                  0\n",
      "Samity                       0\n",
      "branc_code                   0\n",
      "Member_code                  0\n",
      "Member_name                  0\n",
      "Spouse_name                  0\n",
      "Mobile_no                    0\n",
      "Component_name             256\n",
      "Loan_code                    0\n",
      "Loan_cycle                   0\n",
      "Loan_disburse_date           0\n",
      "Disburse_amount              0\n",
      "Last_transaction_date        0\n",
      "Date_last_installment       32\n",
      "Present_loan_amount          0\n",
      "Due_amount                   0\n",
      "Saving_balance               1\n",
      "Member                     490\n",
      "Organization              1033\n",
      "Day_expire               61766\n",
      "dtype: int64\n"
     ]
    }
   ],
   "source": [
    "print(\"Missing values in the important data:\")\n",
    "print(important_data.isnull().sum())"
   ]
  },
  {
   "cell_type": "code",
   "execution_count": 28,
   "metadata": {
    "ExecuteTime": {
     "end_time": "2024-01-10T13:01:14.775377400Z",
     "start_time": "2024-01-10T13:01:14.735380600Z"
    },
    "collapsed": false
   },
   "outputs": [
    {
     "name": "stdout",
     "output_type": "stream",
     "text": [
      "Data type of Saving_balance: float64\n",
      "Missing values in Saving_balance: 1\n",
      "Data type of Saving_balance: int32\n",
      "Missing values in Saving_balance: 0\n"
     ]
    }
   ],
   "source": [
    "# data type 'Saving_balance'\n",
    "print(\"Data type of Saving_balance:\", important_data['Saving_balance'].dtype)\n",
    "# show missing values in Saving_balance\n",
    "print(\"Missing values in Saving_balance:\", important_data['Saving_balance'].isnull().sum())\n",
    "# insert 0 in missing values in Saving_balance\n",
    "important_data['Saving_balance'].fillna(0, inplace=True)\n",
    "# convert Saving_balance to int\n",
    "important_data['Saving_balance'] = important_data['Saving_balance'].astype(np.int32)\n",
    "# show data type of Saving_balance\n",
    "print(\"Data type of Saving_balance:\", important_data['Saving_balance'].dtype)\n",
    "# show missing values in Saving_balance\n",
    "print(\"Missing values in Saving_balance:\", important_data['Saving_balance'].isnull().sum())"
   ]
  },
  {
   "cell_type": "code",
   "execution_count": 29,
   "metadata": {
    "ExecuteTime": {
     "end_time": "2024-01-10T13:01:14.851900800Z",
     "start_time": "2024-01-10T13:01:14.750381300Z"
    },
    "collapsed": false
   },
   "outputs": [
    {
     "name": "stdout",
     "output_type": "stream",
     "text": [
      "Missing values in the important data:\n",
      "domain_name                  0\n",
      "zone_name                    0\n",
      "area_name                    0\n",
      "branch_name                  0\n",
      "branch_code                  0\n",
      "Samity                       0\n",
      "branc_code                   0\n",
      "Member_code                  0\n",
      "Member_name                  0\n",
      "Spouse_name                  0\n",
      "Mobile_no                    0\n",
      "Component_name             256\n",
      "Loan_code                    0\n",
      "Loan_cycle                   0\n",
      "Loan_disburse_date           0\n",
      "Disburse_amount              0\n",
      "Last_transaction_date        0\n",
      "Date_last_installment       32\n",
      "Present_loan_amount          0\n",
      "Due_amount                   0\n",
      "Saving_balance               0\n",
      "Member                     490\n",
      "Organization              1033\n",
      "Day_expire               61766\n",
      "dtype: int64\n"
     ]
    }
   ],
   "source": [
    "print(\"Missing values in the important data:\")\n",
    "print(important_data.isnull().sum())"
   ]
  },
  {
   "cell_type": "code",
   "execution_count": 30,
   "metadata": {
    "ExecuteTime": {
     "end_time": "2024-01-10T13:01:14.898417200Z",
     "start_time": "2024-01-10T13:01:14.856901600Z"
    },
    "collapsed": false
   },
   "outputs": [
    {
     "name": "stdout",
     "output_type": "stream",
     "text": [
      "Data type of Member: float64\n",
      "Missing values in Member: 490\n",
      "Data type of Member: int32\n",
      "Missing values in Member: 0\n"
     ]
    }
   ],
   "source": [
    "# data type 'Member'\n",
    "print(\"Data type of Member:\", important_data['Member'].dtype)\n",
    "# show missing values in Member\n",
    "print(\"Missing values in Member:\", important_data['Member'].isnull().sum())\n",
    "# insert 0 in missing values in Member\n",
    "important_data['Member'].fillna(0, inplace=True)\n",
    "# convert Member to int\n",
    "important_data['Member'] = important_data['Member'].astype(np.int32)\n",
    "# show data type of Member\n",
    "print(\"Data type of Member:\", important_data['Member'].dtype)\n",
    "# show missing values in Member\n",
    "print(\"Missing values in Member:\", important_data['Member'].isnull().sum())"
   ]
  },
  {
   "cell_type": "code",
   "execution_count": 31,
   "metadata": {
    "ExecuteTime": {
     "end_time": "2024-01-10T13:01:14.912416700Z",
     "start_time": "2024-01-10T13:01:14.873904600Z"
    },
    "collapsed": false
   },
   "outputs": [
    {
     "name": "stdout",
     "output_type": "stream",
     "text": [
      "Data type of Organization: float64\n",
      "Missing values in Organization: 1033\n",
      "Data type of Organization: int32\n",
      "Missing values in Organization: 0\n"
     ]
    }
   ],
   "source": [
    "# data type 'Organization'\n",
    "print(\"Data type of Organization:\", important_data['Organization'].dtype)\n",
    "# show missing values in Organization\n",
    "print(\"Missing values in Organization:\", important_data['Organization'].isnull().sum())\n",
    "# insert 0 in missing values in Organization\n",
    "important_data['Organization'].fillna(0, inplace=True)\n",
    "# convert Organization to int\n",
    "important_data['Organization'] = important_data['Organization'].astype(np.int32)\n",
    "# show data type of Organization\n",
    "print(\"Data type of Organization:\", important_data['Organization'].dtype)\n",
    "# show missing values in Organization\n",
    "print(\"Missing values in Organization:\", important_data['Organization'].isnull().sum())"
   ]
  },
  {
   "cell_type": "code",
   "execution_count": 32,
   "metadata": {
    "ExecuteTime": {
     "end_time": "2024-01-10T13:01:15.037935700Z",
     "start_time": "2024-01-10T13:01:14.903429600Z"
    },
    "collapsed": false
   },
   "outputs": [
    {
     "name": "stdout",
     "output_type": "stream",
     "text": [
      "Missing values in the important data:\n",
      "domain_name                  0\n",
      "zone_name                    0\n",
      "area_name                    0\n",
      "branch_name                  0\n",
      "branch_code                  0\n",
      "Samity                       0\n",
      "branc_code                   0\n",
      "Member_code                  0\n",
      "Member_name                  0\n",
      "Spouse_name                  0\n",
      "Mobile_no                    0\n",
      "Component_name             256\n",
      "Loan_code                    0\n",
      "Loan_cycle                   0\n",
      "Loan_disburse_date           0\n",
      "Disburse_amount              0\n",
      "Last_transaction_date        0\n",
      "Date_last_installment       32\n",
      "Present_loan_amount          0\n",
      "Due_amount                   0\n",
      "Saving_balance               0\n",
      "Member                       0\n",
      "Organization                 0\n",
      "Day_expire               61766\n",
      "dtype: int64\n"
     ]
    }
   ],
   "source": [
    "print(\"Missing values in the important data:\")\n",
    "print(important_data.isnull().sum())"
   ]
  },
  {
   "cell_type": "code",
   "execution_count": 33,
   "metadata": {
    "ExecuteTime": {
     "end_time": "2024-01-10T13:01:15.048934800Z",
     "start_time": "2024-01-10T13:01:15.013941700Z"
    },
    "collapsed": false
   },
   "outputs": [
    {
     "name": "stdout",
     "output_type": "stream",
     "text": [
      "Data type of Day_expire: float64\n",
      "Missing values in Day_expire: 61766\n",
      "Data type of Day_expire: int32\n",
      "Missing values in Day_expire: 0\n"
     ]
    }
   ],
   "source": [
    "# data type 'Day_expire'\n",
    "print(\"Data type of Day_expire:\", important_data['Day_expire'].dtype)\n",
    "# show missing values in Day_expire\n",
    "print(\"Missing values in Day_expire:\", important_data['Day_expire'].isnull().sum())\n",
    "# insert 0 in missing values in Day_expire\n",
    "important_data['Day_expire'].fillna(0, inplace=True)\n",
    "# convert Day_expire to int\n",
    "important_data['Day_expire'] = important_data['Day_expire'].astype(np.int32)\n",
    "# show data type of Day_expire\n",
    "print(\"Data type of Day_expire:\", important_data['Day_expire'].dtype)\n",
    "# show missing values in Day_expire\n",
    "print(\"Missing values in Day_expire:\", important_data['Day_expire'].isnull().sum())"
   ]
  },
  {
   "cell_type": "code",
   "execution_count": 34,
   "metadata": {
    "ExecuteTime": {
     "end_time": "2024-01-10T13:01:15.134489700Z",
     "start_time": "2024-01-10T13:01:15.037935700Z"
    },
    "collapsed": false
   },
   "outputs": [
    {
     "name": "stdout",
     "output_type": "stream",
     "text": [
      "Data type of Date_last_installment: object\n",
      "Missing values in Date_last_installment: 32\n"
     ]
    },
    {
     "name": "stderr",
     "output_type": "stream",
     "text": [
      "C:\\Users\\Shakil\\AppData\\Local\\Temp\\ipykernel_8212\\2808441601.py:8: UserWarning: Parsing dates in %d/%m/%Y format when dayfirst=False (the default) was specified. Pass `dayfirst=True` or specify a format to silence this warning.\n",
      "  important_data['Date_last_installment'] = pd.to_datetime(important_data['Date_last_installment'], errors='coerce')\n"
     ]
    }
   ],
   "source": [
    "# Date_last_installment\n",
    "print(\"Data type of Date_last_installment:\", important_data['Date_last_installment'].dtype)\n",
    "# show missing values in Date_last_installment\n",
    "print(\"Missing values in Date_last_installment:\", important_data['Date_last_installment'].isnull().sum())\n",
    "# insert NaT in missing values in Date_last_installment\n",
    "important_data['Date_last_installment'].fillna(pd.NaT, inplace=True)\n",
    "# convert Date_last_installment to datetime\n",
    "important_data['Date_last_installment'] = pd.to_datetime(important_data['Date_last_installment'], errors='coerce')"
   ]
  },
  {
   "cell_type": "code",
   "execution_count": 35,
   "metadata": {
    "ExecuteTime": {
     "end_time": "2024-01-10T13:01:15.136487100Z",
     "start_time": "2024-01-10T13:01:15.090033400Z"
    },
    "collapsed": false
   },
   "outputs": [
    {
     "name": "stdout",
     "output_type": "stream",
     "text": [
      "Data type of Component_name: object\n",
      "Missing values in Component_name: 256\n",
      "Data type of Component_name: object\n",
      "Missing values in Component_name: 0\n"
     ]
    }
   ],
   "source": [
    "# show Component_name data type\n",
    "print(\"Data type of Component_name:\", important_data['Component_name'].dtype)\n",
    "# show missing values in Component_name\n",
    "print(\"Missing values in Component_name:\", important_data['Component_name'].isnull().sum())\n",
    "# insert 'Unknown' in missing values in Component_name\n",
    "important_data['Component_name'].fillna('Unknown', inplace=True)\n",
    "# As Component_name is categorical, we should not convert it to int. Instead, we can convert it to category type if needed.\n",
    "# important_data['Component_name'] = important_data['Component_name'].astype('category')\n",
    "# show data type of Component_name\n",
    "print(\"Data type of Component_name:\", important_data['Component_name'].dtype)\n",
    "# show missing values in Component_name\n",
    "print(\"Missing values in Component_name:\", important_data['Component_name'].isnull().sum())"
   ]
  },
  {
   "cell_type": "code",
   "execution_count": 36,
   "metadata": {
    "ExecuteTime": {
     "end_time": "2024-01-10T13:01:15.437560600Z",
     "start_time": "2024-01-10T13:01:15.127488900Z"
    },
    "collapsed": false
   },
   "outputs": [
    {
     "name": "stdout",
     "output_type": "stream",
     "text": [
      "Data type of Component_name: object\n",
      "Data type of Component_name after label encoding: int32\n"
     ]
    }
   ],
   "source": [
    "# convert Component_name into\n",
    "print(\"Data type of Component_name:\", important_data['Component_name'].dtype)\n",
    "from sklearn.preprocessing import LabelEncoder\n",
    "\n",
    "# create the Labelencoder object\n",
    "le = LabelEncoder()\n",
    "# convert the categorical columns into numeric\n",
    "important_data['Component_name'] = le.fit_transform(important_data['Component_name'])\n",
    "# display the data type of Component_name after label encoding\n",
    "print(\"Data type of Component_name after label encoding:\", important_data['Component_name'].dtype)"
   ]
  },
  {
   "cell_type": "code",
   "execution_count": 37,
   "metadata": {
    "ExecuteTime": {
     "end_time": "2024-01-10T13:01:15.529078700Z",
     "start_time": "2024-01-10T13:01:15.439570100Z"
    },
    "collapsed": false
   },
   "outputs": [
    {
     "name": "stdout",
     "output_type": "stream",
     "text": [
      "Missing values in the important data:\n",
      "domain_name               0\n",
      "zone_name                 0\n",
      "area_name                 0\n",
      "branch_name               0\n",
      "branch_code               0\n",
      "Samity                    0\n",
      "branc_code                0\n",
      "Member_code               0\n",
      "Member_name               0\n",
      "Spouse_name               0\n",
      "Mobile_no                 0\n",
      "Component_name            0\n",
      "Loan_code                 0\n",
      "Loan_cycle                0\n",
      "Loan_disburse_date        0\n",
      "Disburse_amount           0\n",
      "Last_transaction_date     0\n",
      "Date_last_installment    32\n",
      "Present_loan_amount       0\n",
      "Due_amount                0\n",
      "Saving_balance            0\n",
      "Member                    0\n",
      "Organization              0\n",
      "Day_expire                0\n",
      "dtype: int64\n"
     ]
    }
   ],
   "source": [
    "print(\"Missing values in the important data:\")\n",
    "print(important_data.isnull().sum())"
   ]
  },
  {
   "cell_type": "code",
   "execution_count": 38,
   "metadata": {
    "ExecuteTime": {
     "end_time": "2024-01-10T13:01:15.589083200Z",
     "start_time": "2024-01-10T13:01:15.531082100Z"
    },
    "collapsed": false
   },
   "outputs": [
    {
     "name": "stdout",
     "output_type": "stream",
     "text": [
      "Data type of important_data: domain_name                      object\n",
      "zone_name                        object\n",
      "area_name                        object\n",
      "branch_name                      object\n",
      "branch_code                       int64\n",
      "Samity                           object\n",
      "branc_code                        int64\n",
      "Member_code                      object\n",
      "Member_name                      object\n",
      "Spouse_name                      object\n",
      "Mobile_no                         int32\n",
      "Component_name                    int32\n",
      "Loan_code                        object\n",
      "Loan_cycle                       object\n",
      "Loan_disburse_date       datetime64[ns]\n",
      "Disburse_amount                   int64\n",
      "Last_transaction_date    datetime64[ns]\n",
      "Date_last_installment    datetime64[ns]\n",
      "Present_loan_amount               int32\n",
      "Due_amount                        int32\n",
      "Saving_balance                    int32\n",
      "Member                            int32\n",
      "Organization                      int32\n",
      "Day_expire                        int32\n",
      "dtype: object\n"
     ]
    }
   ],
   "source": [
    "# show data type of important_data\n",
    "print(\"Data type of important_data:\", important_data.dtypes)"
   ]
  },
  {
   "cell_type": "code",
   "execution_count": 39,
   "metadata": {
    "ExecuteTime": {
     "end_time": "2024-01-10T13:01:18.508389300Z",
     "start_time": "2024-01-10T13:01:15.554079900Z"
    }
   },
   "outputs": [],
   "source": [
    "cols_to_encode = ['domain_name', 'zone_name', 'area_name', 'branch_name', 'Samity',\n",
    "                  'Member_code', 'Member_name', 'Spouse_name', 'Loan_code', 'Loan_cycle',\n",
    "                  'Date_last_installment']\n",
    "\n",
    "le = LabelEncoder()\n",
    "\n",
    "for col in cols_to_encode:\n",
    "    important_data[col] = le.fit_transform(important_data[col].astype(str))"
   ]
  },
  {
   "cell_type": "code",
   "execution_count": 40,
   "metadata": {
    "ExecuteTime": {
     "end_time": "2024-01-10T13:01:18.524386800Z",
     "start_time": "2024-01-10T13:01:18.510394400Z"
    }
   },
   "outputs": [
    {
     "name": "stdout",
     "output_type": "stream",
     "text": [
      "Object columns of important_data:\n",
      "Index([], dtype='object')\n"
     ]
    }
   ],
   "source": [
    "# show object colums  of important_data\n",
    "print(\"Object columns of important_data:\")\n",
    "print(important_data.select_dtypes(include=['object']).columns)"
   ]
  },
  {
   "cell_type": "code",
   "execution_count": 41,
   "metadata": {
    "ExecuteTime": {
     "end_time": "2024-01-10T13:01:18.585395900Z",
     "start_time": "2024-01-10T13:01:18.526392200Z"
    },
    "collapsed": false
   },
   "outputs": [
    {
     "name": "stdout",
     "output_type": "stream",
     "text": [
      "Data type of important_data: domain_name                       int32\n",
      "zone_name                         int32\n",
      "area_name                         int32\n",
      "branch_name                       int32\n",
      "branch_code                       int64\n",
      "Samity                            int32\n",
      "branc_code                        int64\n",
      "Member_code                       int32\n",
      "Member_name                       int32\n",
      "Spouse_name                       int32\n",
      "Mobile_no                         int32\n",
      "Component_name                    int32\n",
      "Loan_code                         int32\n",
      "Loan_cycle                        int32\n",
      "Loan_disburse_date       datetime64[ns]\n",
      "Disburse_amount                   int64\n",
      "Last_transaction_date    datetime64[ns]\n",
      "Date_last_installment             int32\n",
      "Present_loan_amount               int32\n",
      "Due_amount                        int32\n",
      "Saving_balance                    int32\n",
      "Member                            int32\n",
      "Organization                      int32\n",
      "Day_expire                        int32\n",
      "dtype: object\n"
     ]
    }
   ],
   "source": [
    "# show data type of important_data\n",
    "print(\"Data type of important_data:\", important_data.dtypes)"
   ]
  },
  {
   "cell_type": "code",
   "execution_count": 42,
   "metadata": {
    "ExecuteTime": {
     "end_time": "2024-01-10T13:01:18.598702200Z",
     "start_time": "2024-01-10T13:01:18.543392600Z"
    },
    "collapsed": false
   },
   "outputs": [],
   "source": [
    "# coonvert Loan_disburse_date datetime64[ns], Last_transaction_date datetime64[ns] into int\n",
    "important_data['Loan_disburse_date'] = important_data['Loan_disburse_date'].astype(np.int64)\n",
    "important_data['Last_transaction_date'] = important_data['Last_transaction_date'].astype(np.int64)"
   ]
  },
  {
   "cell_type": "code",
   "execution_count": 43,
   "metadata": {
    "ExecuteTime": {
     "end_time": "2024-01-10T13:01:18.598702200Z",
     "start_time": "2024-01-10T13:01:18.559392Z"
    },
    "collapsed": false
   },
   "outputs": [],
   "source": [
    "# Date_last_installment    datetime64[ns] convert into int\n",
    "important_data['Date_last_installment'] = important_data['Date_last_installment'].astype(np.int64)"
   ]
  },
  {
   "cell_type": "code",
   "execution_count": 44,
   "metadata": {
    "ExecuteTime": {
     "end_time": "2024-01-10T13:01:18.598702200Z",
     "start_time": "2024-01-10T13:01:18.575389100Z"
    },
    "collapsed": false
   },
   "outputs": [
    {
     "name": "stdout",
     "output_type": "stream",
     "text": [
      "Data type of important_data: domain_name              int32\n",
      "zone_name                int32\n",
      "area_name                int32\n",
      "branch_name              int32\n",
      "branch_code              int64\n",
      "Samity                   int32\n",
      "branc_code               int64\n",
      "Member_code              int32\n",
      "Member_name              int32\n",
      "Spouse_name              int32\n",
      "Mobile_no                int32\n",
      "Component_name           int32\n",
      "Loan_code                int32\n",
      "Loan_cycle               int32\n",
      "Loan_disburse_date       int64\n",
      "Disburse_amount          int64\n",
      "Last_transaction_date    int64\n",
      "Date_last_installment    int64\n",
      "Present_loan_amount      int32\n",
      "Due_amount               int32\n",
      "Saving_balance           int32\n",
      "Member                   int32\n",
      "Organization             int32\n",
      "Day_expire               int32\n",
      "dtype: object\n"
     ]
    }
   ],
   "source": [
    "# show data type of important_data\n",
    "print(\"Data type of important_data:\", important_data.dtypes)"
   ]
  },
  {
   "cell_type": "code",
   "execution_count": 45,
   "metadata": {
    "ExecuteTime": {
     "end_time": "2024-01-10T13:01:18.603699Z",
     "start_time": "2024-01-10T13:01:18.590399300Z"
    },
    "collapsed": false
   },
   "outputs": [],
   "source": [
    "# convert into int32 for Loan_disburse_date,Disburse_amount,Last_transaction_date\n",
    "important_data['Loan_disburse_date'] = important_data['Loan_disburse_date'].astype(np.int32)\n",
    "important_data['Disburse_amount'] = important_data['Disburse_amount'].astype(np.int32)\n",
    "important_data['Last_transaction_date'] = important_data['Last_transaction_date'].astype(np.int32)"
   ]
  },
  {
   "cell_type": "code",
   "execution_count": 46,
   "metadata": {
    "ExecuteTime": {
     "end_time": "2024-01-10T13:01:18.671663600Z",
     "start_time": "2024-01-10T13:01:18.604700400Z"
    },
    "collapsed": false
   },
   "outputs": [
    {
     "name": "stdout",
     "output_type": "stream",
     "text": [
      "Data type of important_data: domain_name              int32\n",
      "zone_name                int32\n",
      "area_name                int32\n",
      "branch_name              int32\n",
      "branch_code              int64\n",
      "Samity                   int32\n",
      "branc_code               int64\n",
      "Member_code              int32\n",
      "Member_name              int32\n",
      "Spouse_name              int32\n",
      "Mobile_no                int32\n",
      "Component_name           int32\n",
      "Loan_code                int32\n",
      "Loan_cycle               int32\n",
      "Loan_disburse_date       int32\n",
      "Disburse_amount          int32\n",
      "Last_transaction_date    int32\n",
      "Date_last_installment    int64\n",
      "Present_loan_amount      int32\n",
      "Due_amount               int32\n",
      "Saving_balance           int32\n",
      "Member                   int32\n",
      "Organization             int32\n",
      "Day_expire               int32\n",
      "dtype: object\n"
     ]
    }
   ],
   "source": [
    "# show data type of important_data\n",
    "print(\"Data type of important_data:\", important_data.dtypes)"
   ]
  },
  {
   "cell_type": "code",
   "execution_count": 47,
   "metadata": {
    "ExecuteTime": {
     "end_time": "2024-01-10T13:01:18.782190600Z",
     "start_time": "2024-01-10T13:01:18.622700900Z"
    },
    "collapsed": false
   },
   "outputs": [],
   "source": [
    "# Splitting the dataset into the Training set and Test set\n",
    "from sklearn.model_selection import train_test_split\n",
    "\n",
    "# Splitting the dataset into the Training set and Test set\n",
    "X = important_data.drop('Due_amount', axis=1)\n",
    "\n",
    "# Selecting the target variable\n",
    "y = important_data['Due_amount']\n",
    "\n",
    "# Splitting the dataset into the Training set and Test set\n",
    "X_train, X_test, y_train, y_test = train_test_split(X, y, random_state=420)"
   ]
  },
  {
   "cell_type": "code",
   "execution_count": 48,
   "metadata": {
    "ExecuteTime": {
     "end_time": "2024-01-10T13:01:18.797705600Z",
     "start_time": "2024-01-10T13:01:18.785194700Z"
    },
    "collapsed": false
   },
   "outputs": [
    {
     "name": "stdout",
     "output_type": "stream",
     "text": [
      "Data type of X_train: domain_name              int32\n",
      "zone_name                int32\n",
      "area_name                int32\n",
      "branch_name              int32\n",
      "branch_code              int64\n",
      "Samity                   int32\n",
      "branc_code               int64\n",
      "Member_code              int32\n",
      "Member_name              int32\n",
      "Spouse_name              int32\n",
      "Mobile_no                int32\n",
      "Component_name           int32\n",
      "Loan_code                int32\n",
      "Loan_cycle               int32\n",
      "Loan_disburse_date       int32\n",
      "Disburse_amount          int32\n",
      "Last_transaction_date    int32\n",
      "Date_last_installment    int64\n",
      "Present_loan_amount      int32\n",
      "Saving_balance           int32\n",
      "Member                   int32\n",
      "Organization             int32\n",
      "Day_expire               int32\n",
      "dtype: object\n",
      "Data type of X_test: domain_name              int32\n",
      "zone_name                int32\n",
      "area_name                int32\n",
      "branch_name              int32\n",
      "branch_code              int64\n",
      "Samity                   int32\n",
      "branc_code               int64\n",
      "Member_code              int32\n",
      "Member_name              int32\n",
      "Spouse_name              int32\n",
      "Mobile_no                int32\n",
      "Component_name           int32\n",
      "Loan_code                int32\n",
      "Loan_cycle               int32\n",
      "Loan_disburse_date       int32\n",
      "Disburse_amount          int32\n",
      "Last_transaction_date    int32\n",
      "Date_last_installment    int64\n",
      "Present_loan_amount      int32\n",
      "Saving_balance           int32\n",
      "Member                   int32\n",
      "Organization             int32\n",
      "Day_expire               int32\n",
      "dtype: object\n",
      "Data type of y_train: int32\n",
      "Data type of y_test: int32\n"
     ]
    }
   ],
   "source": [
    "# show data type of X_train, X_test, y_train, y_test\n",
    "print(\"Data type of X_train:\", X_train.dtypes)\n",
    "print(\"Data type of X_test:\", X_test.dtypes)\n",
    "print(\"Data type of y_train:\", y_train.dtypes)\n",
    "print(\"Data type of y_test:\", y_test.dtypes)"
   ]
  },
  {
   "cell_type": "code",
   "execution_count": 49,
   "metadata": {
    "ExecuteTime": {
     "end_time": "2024-01-10T13:01:44.008613400Z",
     "start_time": "2024-01-10T13:01:43.825966900Z"
    },
    "collapsed": false
   },
   "outputs": [],
   "source": [
    "# Fitting Simple Linear Regression to the Training set\n",
    "from sklearn.linear_model import LinearRegression\n",
    "regressor = LinearRegression()\n",
    "\n",
    "regressor.fit(X_train, y_train) ## training the algorithm m = 0.020, c => -2.2 ==> y = 0.020*1.5 + (-2.2)\n",
    "\n",
    "# Predicting the Test set results\n",
    "y_pred = regressor.predict(X_test) #predicted salary by our LR model"
   ]
  },
  {
   "cell_type": "code",
   "execution_count": 50,
   "metadata": {
    "ExecuteTime": {
     "end_time": "2024-01-10T13:02:09.741651800Z",
     "start_time": "2024-01-10T13:02:09.722649900Z"
    },
    "collapsed": false
   },
   "outputs": [
    {
     "name": "stdout",
     "output_type": "stream",
     "text": [
      "Data type of y_pred: float64\n"
     ]
    }
   ],
   "source": [
    "# show data type of y_pred\n",
    "print(\"Data type of y_pred:\", y_pred.dtype)"
   ]
  },
  {
   "cell_type": "code",
   "execution_count": 51,
   "metadata": {
    "ExecuteTime": {
     "end_time": "2024-01-10T13:02:41.542218400Z",
     "start_time": "2024-01-10T13:02:41.516873400Z"
    },
    "collapsed": false
   },
   "outputs": [
    {
     "name": "stdout",
     "output_type": "stream",
     "text": [
      "8230.287356392084\n"
     ]
    }
   ],
   "source": [
    "print(regressor.intercept_) # intercept c"
   ]
  },
  {
   "cell_type": "code",
   "execution_count": 52,
   "metadata": {
    "ExecuteTime": {
     "end_time": "2024-01-10T13:02:46.118426200Z",
     "start_time": "2024-01-10T13:02:46.094423500Z"
    },
    "collapsed": false
   },
   "outputs": [
    {
     "name": "stdout",
     "output_type": "stream",
     "text": [
      "[ 1.04637830e+02  2.92031799e+01  1.24354706e+00  1.49320024e-02\n",
      "  2.82232943e+00 -1.95490394e-02  2.82232943e+00 -1.95804717e-02\n",
      "  5.13354592e-03 -3.00116356e-04  4.31082548e-06  1.32135731e-01\n",
      "  3.41373200e-03 -5.37179187e+02  7.76133682e-08  5.35023117e-02\n",
      "  3.36131916e-07 -7.99014019e+00  4.33822413e-01  3.70432613e-02\n",
      "  1.65958549e-06  2.24433799e-01  1.07913507e+00]\n"
     ]
    }
   ],
   "source": [
    "print(regressor.coef_) # slope m"
   ]
  },
  {
   "cell_type": "code",
   "execution_count": 56,
   "metadata": {
    "ExecuteTime": {
     "end_time": "2024-01-10T13:06:34.779757800Z",
     "start_time": "2024-01-10T13:06:34.757758800Z"
    },
    "collapsed": false
   },
   "outputs": [
    {
     "name": "stdout",
     "output_type": "stream",
     "text": [
      "Shape of X_train: (202877, 23)\n",
      "Shape of X_test: (67626, 23)\n",
      "Shape of y_train: (202877,)\n",
      "Shape of y_test: (67626,)\n"
     ]
    }
   ],
   "source": [
    "# show shape of X_train, X_test, y_train, y_test\n",
    "print(\"Shape of X_train:\", X_train.shape)\n",
    "print(\"Shape of X_test:\", X_test.shape)\n",
    "print(\"Shape of y_train:\", y_train.shape)\n",
    "print(\"Shape of y_test:\", y_test.shape)"
   ]
  },
  {
   "cell_type": "code",
   "execution_count": 57,
   "metadata": {
    "ExecuteTime": {
     "end_time": "2024-01-10T13:07:53.842926900Z",
     "start_time": "2024-01-10T13:07:53.821919600Z"
    },
    "collapsed": false
   },
   "outputs": [
    {
     "data": {
      "text/html": [
       "<div>\n",
       "<style scoped>\n",
       "    .dataframe tbody tr th:only-of-type {\n",
       "        vertical-align: middle;\n",
       "    }\n",
       "\n",
       "    .dataframe tbody tr th {\n",
       "        vertical-align: top;\n",
       "    }\n",
       "\n",
       "    .dataframe thead th {\n",
       "        text-align: right;\n",
       "    }\n",
       "</style>\n",
       "<table border=\"1\" class=\"dataframe\">\n",
       "  <thead>\n",
       "    <tr style=\"text-align: right;\">\n",
       "      <th></th>\n",
       "      <th>Actual</th>\n",
       "      <th>Predicted</th>\n",
       "    </tr>\n",
       "  </thead>\n",
       "  <tbody>\n",
       "    <tr>\n",
       "      <th>28208</th>\n",
       "      <td>15958</td>\n",
       "      <td>17099.584468</td>\n",
       "    </tr>\n",
       "    <tr>\n",
       "      <th>249418</th>\n",
       "      <td>19151</td>\n",
       "      <td>15324.834783</td>\n",
       "    </tr>\n",
       "    <tr>\n",
       "      <th>189179</th>\n",
       "      <td>6176</td>\n",
       "      <td>12501.606476</td>\n",
       "    </tr>\n",
       "    <tr>\n",
       "      <th>194492</th>\n",
       "      <td>6625</td>\n",
       "      <td>16752.923795</td>\n",
       "    </tr>\n",
       "    <tr>\n",
       "      <th>44476</th>\n",
       "      <td>7639</td>\n",
       "      <td>7469.822737</td>\n",
       "    </tr>\n",
       "    <tr>\n",
       "      <th>187118</th>\n",
       "      <td>4496</td>\n",
       "      <td>10813.720134</td>\n",
       "    </tr>\n",
       "    <tr>\n",
       "      <th>198603</th>\n",
       "      <td>6449</td>\n",
       "      <td>5134.677364</td>\n",
       "    </tr>\n",
       "    <tr>\n",
       "      <th>244451</th>\n",
       "      <td>6346</td>\n",
       "      <td>3557.464063</td>\n",
       "    </tr>\n",
       "    <tr>\n",
       "      <th>96379</th>\n",
       "      <td>74052</td>\n",
       "      <td>54009.978660</td>\n",
       "    </tr>\n",
       "    <tr>\n",
       "      <th>217046</th>\n",
       "      <td>11992</td>\n",
       "      <td>14463.872695</td>\n",
       "    </tr>\n",
       "    <tr>\n",
       "      <th>127149</th>\n",
       "      <td>17775</td>\n",
       "      <td>12654.070303</td>\n",
       "    </tr>\n",
       "    <tr>\n",
       "      <th>87787</th>\n",
       "      <td>12876</td>\n",
       "      <td>13714.680141</td>\n",
       "    </tr>\n",
       "    <tr>\n",
       "      <th>76468</th>\n",
       "      <td>19635</td>\n",
       "      <td>19969.204415</td>\n",
       "    </tr>\n",
       "    <tr>\n",
       "      <th>197205</th>\n",
       "      <td>87929</td>\n",
       "      <td>66038.746364</td>\n",
       "    </tr>\n",
       "    <tr>\n",
       "      <th>76722</th>\n",
       "      <td>10827</td>\n",
       "      <td>12628.648182</td>\n",
       "    </tr>\n",
       "    <tr>\n",
       "      <th>55842</th>\n",
       "      <td>15596</td>\n",
       "      <td>17198.615061</td>\n",
       "    </tr>\n",
       "    <tr>\n",
       "      <th>113383</th>\n",
       "      <td>20176</td>\n",
       "      <td>14200.373501</td>\n",
       "    </tr>\n",
       "    <tr>\n",
       "      <th>100321</th>\n",
       "      <td>16696</td>\n",
       "      <td>10322.287561</td>\n",
       "    </tr>\n",
       "    <tr>\n",
       "      <th>51674</th>\n",
       "      <td>33303</td>\n",
       "      <td>20152.945371</td>\n",
       "    </tr>\n",
       "    <tr>\n",
       "      <th>14384</th>\n",
       "      <td>17533</td>\n",
       "      <td>21642.354531</td>\n",
       "    </tr>\n",
       "    <tr>\n",
       "      <th>171190</th>\n",
       "      <td>2618</td>\n",
       "      <td>6323.384919</td>\n",
       "    </tr>\n",
       "    <tr>\n",
       "      <th>153696</th>\n",
       "      <td>18970</td>\n",
       "      <td>12923.103193</td>\n",
       "    </tr>\n",
       "    <tr>\n",
       "      <th>155629</th>\n",
       "      <td>17438</td>\n",
       "      <td>15577.992048</td>\n",
       "    </tr>\n",
       "    <tr>\n",
       "      <th>57507</th>\n",
       "      <td>5319</td>\n",
       "      <td>7281.068509</td>\n",
       "    </tr>\n",
       "    <tr>\n",
       "      <th>191592</th>\n",
       "      <td>40286</td>\n",
       "      <td>30055.835633</td>\n",
       "    </tr>\n",
       "  </tbody>\n",
       "</table>\n",
       "</div>"
      ],
      "text/plain": [
       "        Actual     Predicted\n",
       "28208    15958  17099.584468\n",
       "249418   19151  15324.834783\n",
       "189179    6176  12501.606476\n",
       "194492    6625  16752.923795\n",
       "44476     7639   7469.822737\n",
       "187118    4496  10813.720134\n",
       "198603    6449   5134.677364\n",
       "244451    6346   3557.464063\n",
       "96379    74052  54009.978660\n",
       "217046   11992  14463.872695\n",
       "127149   17775  12654.070303\n",
       "87787    12876  13714.680141\n",
       "76468    19635  19969.204415\n",
       "197205   87929  66038.746364\n",
       "76722    10827  12628.648182\n",
       "55842    15596  17198.615061\n",
       "113383   20176  14200.373501\n",
       "100321   16696  10322.287561\n",
       "51674    33303  20152.945371\n",
       "14384    17533  21642.354531\n",
       "171190    2618   6323.384919\n",
       "153696   18970  12923.103193\n",
       "155629   17438  15577.992048\n",
       "57507     5319   7281.068509\n",
       "191592   40286  30055.835633"
      ]
     },
     "execution_count": 57,
     "metadata": {},
     "output_type": "execute_result"
    }
   ],
   "source": [
    "df = pd.DataFrame({'Actual': y_test, 'Predicted': y_pred})\n",
    "df1 = df.head(25)\n",
    "df1"
   ]
  },
  {
   "cell_type": "code",
   "execution_count": 59,
   "metadata": {
    "ExecuteTime": {
     "end_time": "2024-01-10T13:14:26.803166100Z",
     "start_time": "2024-01-10T13:14:26.146990500Z"
    },
    "collapsed": false
   },
   "outputs": [
    {
     "data": {
      "image/png": "[encoded data removed]",
      "text/plain": [
       "<Figure size 1600x1000 with 1 Axes>"
      ]
     },
     "metadata": {},
     "output_type": "display_data"
    }
   ],
   "source": [
    "df1 = df.head(25)\n",
    "df1.plot(kind='bar',figsize=(16,10))\n",
    "plt.grid(which='major', linestyle='-', linewidth='0.5', color='green')\n",
    "plt.grid(which='minor', linestyle=':', linewidth='0.5', color='black')\n",
    "plt.title('Comparison of Actual and Predicted Values')\n",
    "plt.xlabel('Index')\n",
    "plt.ylabel('Values')\n",
    "plt.show()"
   ]
  },
  {
   "cell_type": "code",
   "execution_count": 60,
   "metadata": {
    "ExecuteTime": {
     "end_time": "2024-01-10T13:15:18.410295100Z",
     "start_time": "2024-01-10T13:15:18.377291300Z"
    },
    "collapsed": false
   },
   "outputs": [
    {
     "name": "stdout",
     "output_type": "stream",
     "text": [
      "Mean Absolute Error: 6614.109863232526\n",
      "Mean Squared Error: 153615016.74847543\n",
      "Root Mean Squared Error: 12394.152522398434\n"
     ]
    }
   ],
   "source": [
    "from sklearn import metrics\n",
    "print('Mean Absolute Error:', metrics.mean_absolute_error(y_test, y_pred))\n",
    "print('Mean Squared Error:', metrics.mean_squared_error(y_test, y_pred))\n",
    "print('Root Mean Squared Error:', np.sqrt(metrics.mean_squared_error(y_test, y_pred)))"
   ]
  },
  {
   "cell_type": "code",
   "execution_count": 62,
   "metadata": {
    "collapsed": false,
    "ExecuteTime": {
     "end_time": "2024-01-10T13:18:39.705644500Z",
     "start_time": "2024-01-10T13:18:39.675649600Z"
    }
   },
   "outputs": [],
   "source": [
    "import pickle\n",
    "\n",
    "# Save the trained model as a pickle string.\n",
    "saved_model = pickle.dumps(regressor)\n",
    "\n",
    "# Save the model as a pickle in a file\n",
    "with open('regressor_model.pkl', 'wb') as file:\n",
    "    pickle.dump(regressor, file)"
   ]
  },
  {
   "cell_type": "code",
   "execution_count": null,
   "metadata": {
    "collapsed": false
   },
   "outputs": [],
   "source": []
  }
 ],
 "metadata": {
  "kernelspec": {
   "display_name": "Python 3",
   "language": "python",
   "name": "python3"
  },
  "language_info": {
   "codemirror_mode": {
    "name": "ipython",
    "version": 3
   },
   "file_extension": ".py",
   "mimetype": "text/x-python",
   "name": "python",
   "nbconvert_exporter": "python",
   "pygments_lexer": "ipython3",
   "version": "3.10.13"
  }
 },
 "nbformat": 4,
 "nbformat_minor": 0
}
